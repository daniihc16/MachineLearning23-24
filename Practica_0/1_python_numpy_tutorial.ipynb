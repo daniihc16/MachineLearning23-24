{
  "cells": [
    {
      "cell_type": "markdown",
      "id": "d6a48233-0736-4791-ab09-b9e432700780",
      "metadata": {
        "id": "d6a48233-0736-4791-ab09-b9e432700780"
      },
      "source": [
        "# Python Crash Course\n",
        "\n",
        "*Fraida Fund*"
      ]
    },
    {
      "cell_type": "markdown",
      "id": "b8c81981-ec2e-4984-bc03-c0d6ebd5b1b0",
      "metadata": {
        "id": "b8c81981-ec2e-4984-bc03-c0d6ebd5b1b0"
      },
      "source": [
        "## Introduction"
      ]
    },
    {
      "cell_type": "markdown",
      "id": "7e38a0f8-f6f9-49bb-aa05-5667ad3b3a12",
      "metadata": {
        "id": "7e38a0f8-f6f9-49bb-aa05-5667ad3b3a12"
      },
      "source": [
        "This tutorial is an introduction to Python and the `numpy` library for those who are already familiar with programming in another language.\n",
        "\n",
        "In this tutorial, we will cover:\n",
        "\n",
        "-   Basic Python: Basic data types, Containers (Lists, Dictionaries,, Tuples), Control Flow Statements, Errors and Exceptions, Functions, Classes\n",
        "-   `numpy`: Arrays, Array indexing, Datatypes, Array math, Broadcasting\n",
        "-   `matplotlib`: Basic Visualization, Subplots, Image Visualization"
      ]
    },
    {
      "cell_type": "markdown",
      "id": "e95aa82c-403e-499f-8104-d49199e34660",
      "metadata": {
        "id": "e95aa82c-403e-499f-8104-d49199e34660"
      },
      "source": [
        "## Basics of Python"
      ]
    },
    {
      "cell_type": "markdown",
      "id": "ae04b003-acad-4759-a795-13f049eaa758",
      "metadata": {
        "id": "ae04b003-acad-4759-a795-13f049eaa758"
      },
      "source": [
        "Python is a high-level, dynamically typed multiparadigm programming language. Python code is often said to be almost like pseudocode, since it allows you to express very powerful ideas in very few lines of code while being very readable. As an example, here is an implementation of the classic quicksort algorithm in Python:"
      ]
    },
    {
      "cell_type": "code",
      "execution_count": 25,
      "id": "1c75ac15-5238-449a-8c1b-23daff6ea389",
      "metadata": {
        "id": "1c75ac15-5238-449a-8c1b-23daff6ea389"
      },
      "outputs": [
        {
          "name": "stdout",
          "output_type": "stream",
          "text": [
            "[1, 1, 2, 3, 6, 8, 10]\n"
          ]
        }
      ],
      "source": [
        "def quicksort(arr):\n",
        "    if len(arr) <= 1:\n",
        "        return arr\n",
        "    pivot = arr[len(arr) // 2]\n",
        "    left = [x for x in arr if x < pivot]\n",
        "    middle = [x for x in arr if x == pivot]\n",
        "    right = [x for x in arr if x > pivot]\n",
        "    return quicksort(left) + middle + quicksort(right)\n",
        "\n",
        "print(quicksort([3,6,8,10,1,2,1]))"
      ]
    },
    {
      "cell_type": "markdown",
      "id": "e3d2d925-fc3b-44b5-a5ec-218c19ab5226",
      "metadata": {
        "id": "e3d2d925-fc3b-44b5-a5ec-218c19ab5226"
      },
      "source": [
        "### Basic data types"
      ]
    },
    {
      "cell_type": "markdown",
      "id": "08052eff-babc-4a4d-a8a6-ca1b24ac2b50",
      "metadata": {
        "id": "08052eff-babc-4a4d-a8a6-ca1b24ac2b50"
      },
      "source": [
        "#### Numbers"
      ]
    },
    {
      "cell_type": "markdown",
      "id": "f25fefb2-ee96-4c50-8d88-2e52febaa6cf",
      "metadata": {
        "id": "f25fefb2-ee96-4c50-8d88-2e52febaa6cf"
      },
      "source": [
        "Integers and floats work as you would expect from other languages:"
      ]
    },
    {
      "cell_type": "code",
      "execution_count": 26,
      "id": "90be42c9-0735-4366-97a5-a6e1d93cfd35",
      "metadata": {
        "id": "90be42c9-0735-4366-97a5-a6e1d93cfd35"
      },
      "outputs": [
        {
          "name": "stdout",
          "output_type": "stream",
          "text": [
            "3 <class 'int'>\n"
          ]
        }
      ],
      "source": [
        "x = 3\n",
        "print(x, type(x))"
      ]
    },
    {
      "cell_type": "markdown",
      "id": "01afe9b9-ee19-4974-928b-dab46ee7b340",
      "metadata": {
        "id": "01afe9b9-ee19-4974-928b-dab46ee7b340"
      },
      "source": [
        "By the way: note that you did not have to declare the variable `x` or specify its type before you assigned a value to it. In Python, you can create a variable just by assigning something to it."
      ]
    },
    {
      "cell_type": "code",
      "execution_count": 27,
      "id": "1037c308-87d4-4b5e-8397-a9b5648cc8e5",
      "metadata": {
        "id": "1037c308-87d4-4b5e-8397-a9b5648cc8e5"
      },
      "outputs": [
        {
          "name": "stdout",
          "output_type": "stream",
          "text": [
            "4\n",
            "2\n",
            "6\n",
            "9\n"
          ]
        }
      ],
      "source": [
        "print(x + 1)   # Addition\n",
        "print(x - 1)   # Subtraction\n",
        "print(x * 2)   # Multiplication\n",
        "print(x ** 2)  # Exponentiation"
      ]
    },
    {
      "cell_type": "markdown",
      "id": "cbf6a178-1514-4c13-90b7-0055073fca53",
      "metadata": {
        "id": "cbf6a178-1514-4c13-90b7-0055073fca53"
      },
      "source": [
        "Notice that in the cell above, there is a comment at the end of each line. Comments in Python are indicated by a pound sign (`#`), and anything on the line following the pound sign is ignored. You can have inline comments that follow a statement on the same line, like the ones above, or a comment on its own line."
      ]
    },
    {
      "cell_type": "code",
      "execution_count": 28,
      "id": "79536093-0f15-4e48-9f51-618d330c1317",
      "metadata": {
        "id": "79536093-0f15-4e48-9f51-618d330c1317"
      },
      "outputs": [
        {
          "name": "stdout",
          "output_type": "stream",
          "text": [
            "4\n",
            "8\n"
          ]
        }
      ],
      "source": [
        "x += 1\n",
        "print(x)\n",
        "x *= 2\n",
        "print(x)"
      ]
    },
    {
      "cell_type": "code",
      "execution_count": 29,
      "id": "ac453a15-afc2-4996-be0a-c88aeacbb82d",
      "metadata": {
        "id": "ac453a15-afc2-4996-be0a-c88aeacbb82d"
      },
      "outputs": [
        {
          "name": "stdout",
          "output_type": "stream",
          "text": [
            "<class 'float'>\n",
            "2.5 3.5 5.0 6.25\n"
          ]
        }
      ],
      "source": [
        "y = 2.5\n",
        "print(type(y))\n",
        "print(y, y + 1, y * 2, y ** 2)"
      ]
    },
    {
      "cell_type": "markdown",
      "id": "226c09d7-a5c6-4416-bf42-c89c58cc1f43",
      "metadata": {
        "id": "226c09d7-a5c6-4416-bf42-c89c58cc1f43"
      },
      "source": [
        "Note that unlike many languages, Python does not have unary increment (x++) or decrement (x--) operators.\n",
        "\n",
        "Python also has built-in types for long integers and complex numbers; you can find all of the details in the [documentation](https://docs.python.org/3.7/library/stdtypes.html#numeric-types-int-float-long-complex)."
      ]
    },
    {
      "cell_type": "markdown",
      "id": "1ef02661-7ac9-404f-9bf6-aebc6bee40c6",
      "metadata": {
        "id": "1ef02661-7ac9-404f-9bf6-aebc6bee40c6"
      },
      "source": [
        "#### Booleans"
      ]
    },
    {
      "cell_type": "markdown",
      "id": "ef8ac9c0-6ba8-43c9-a932-c941e79ff907",
      "metadata": {
        "id": "ef8ac9c0-6ba8-43c9-a932-c941e79ff907"
      },
      "source": [
        "Python implements all of the usual operators for Boolean logic, but uses English words rather than symbols (`&&`, `||`, etc.):"
      ]
    },
    {
      "cell_type": "code",
      "execution_count": 30,
      "id": "ea2f519f-af8f-40c1-8a21-1a4e51caa247",
      "metadata": {
        "id": "ea2f519f-af8f-40c1-8a21-1a4e51caa247"
      },
      "outputs": [
        {
          "name": "stdout",
          "output_type": "stream",
          "text": [
            "<class 'bool'>\n"
          ]
        }
      ],
      "source": [
        "t, f = True, False\n",
        "print(type(t))"
      ]
    },
    {
      "cell_type": "markdown",
      "id": "52d6de90-38b9-48f7-a813-61d4a269364c",
      "metadata": {
        "id": "52d6de90-38b9-48f7-a813-61d4a269364c"
      },
      "source": [
        "Now let's look at the operations:"
      ]
    },
    {
      "cell_type": "code",
      "execution_count": 31,
      "id": "b7467a2e-4c08-4369-847f-3fe356be0ff3",
      "metadata": {
        "id": "b7467a2e-4c08-4369-847f-3fe356be0ff3"
      },
      "outputs": [
        {
          "name": "stdout",
          "output_type": "stream",
          "text": [
            "False\n",
            "True\n",
            "False\n",
            "True\n"
          ]
        }
      ],
      "source": [
        "print(t and f) # Logical AND;\n",
        "print(t or f)  # Logical OR;\n",
        "print(not t)   # Logical NOT;\n",
        "print(t != f)  # Logical XOR;"
      ]
    },
    {
      "cell_type": "markdown",
      "id": "c9df5f97-692b-4f91-8f9d-40bc80e5ae66",
      "metadata": {
        "id": "c9df5f97-692b-4f91-8f9d-40bc80e5ae66"
      },
      "source": [
        "#### Strings"
      ]
    },
    {
      "cell_type": "code",
      "execution_count": 32,
      "id": "60a65ef2-75f4-447e-a54c-707fc73b2983",
      "metadata": {
        "id": "60a65ef2-75f4-447e-a54c-707fc73b2983"
      },
      "outputs": [
        {
          "name": "stdout",
          "output_type": "stream",
          "text": [
            "hello 5\n"
          ]
        }
      ],
      "source": [
        "hello = 'hello'   # String literals can use single quotes\n",
        "world = \"world\"   # or double quotes; it does not matter\n",
        "print(hello, len(hello))"
      ]
    },
    {
      "cell_type": "code",
      "execution_count": 33,
      "id": "f57d41a5-e473-4bc8-8123-77ea9cd47755",
      "metadata": {
        "id": "f57d41a5-e473-4bc8-8123-77ea9cd47755"
      },
      "outputs": [
        {
          "name": "stdout",
          "output_type": "stream",
          "text": [
            "hello world\n"
          ]
        }
      ],
      "source": [
        "hw = hello + ' ' + world  # String concatenation\n",
        "print(hw)"
      ]
    },
    {
      "cell_type": "code",
      "execution_count": 34,
      "id": "2c723b0c-b1a5-4925-98fc-b28c5ca285d2",
      "metadata": {
        "id": "2c723b0c-b1a5-4925-98fc-b28c5ca285d2"
      },
      "outputs": [
        {
          "name": "stdout",
          "output_type": "stream",
          "text": [
            "hello world 12\n"
          ]
        }
      ],
      "source": [
        "hw12 = '{} {} {}'.format(hello, world, 12)  # string formatting\n",
        "print(hw12)"
      ]
    },
    {
      "cell_type": "markdown",
      "id": "842abc9d-f4e3-4e4d-aab1-0c904e633d09",
      "metadata": {
        "id": "842abc9d-f4e3-4e4d-aab1-0c904e633d09"
      },
      "source": [
        "String objects have a bunch of useful methods; for example:"
      ]
    },
    {
      "cell_type": "code",
      "execution_count": 35,
      "id": "4104d010-d980-4a85-838b-366b18ecd775",
      "metadata": {
        "id": "4104d010-d980-4a85-838b-366b18ecd775"
      },
      "outputs": [
        {
          "name": "stdout",
          "output_type": "stream",
          "text": [
            "Hello\n",
            "HELLO\n",
            "  hello\n",
            " hello \n",
            "he(ell)(ell)o\n",
            "world\n"
          ]
        }
      ],
      "source": [
        "s = \"hello\"\n",
        "print(s.capitalize())  # Capitalize a string\n",
        "print(s.upper())       # Convert a string to uppercase; prints \"HELLO\"\n",
        "print(s.rjust(7))      # Right-justify a string, padding with spaces\n",
        "print(s.center(7))     # Center a string, padding with spaces\n",
        "print(s.replace('l', '(ell)'))  # Replace all instances of one substring with another\n",
        "print('  world '.strip())  # Strip leading and trailing whitespace"
      ]
    },
    {
      "cell_type": "markdown",
      "id": "4936a0b5-a5c0-43b9-b288-c1f69a6fe8a8",
      "metadata": {
        "id": "4936a0b5-a5c0-43b9-b288-c1f69a6fe8a8"
      },
      "source": [
        "You can find a list of all string methods in the [documentation](https://docs.python.org/3.7/library/stdtypes.html#string-methods)."
      ]
    },
    {
      "cell_type": "markdown",
      "id": "4b7098c9-3e7d-4cb9-b4b3-878f1746720f",
      "metadata": {
        "id": "4b7098c9-3e7d-4cb9-b4b3-878f1746720f"
      },
      "source": [
        "### Containers"
      ]
    },
    {
      "cell_type": "markdown",
      "id": "c585ae76-e38f-4b2d-8f92-4eff3497eaed",
      "metadata": {
        "id": "c585ae76-e38f-4b2d-8f92-4eff3497eaed"
      },
      "source": [
        "Python includes several built-in container types: lists, dictionaries, sets, and tuples."
      ]
    },
    {
      "cell_type": "markdown",
      "id": "6d444cd2-9cd7-4b1b-9471-b1f2938019a4",
      "metadata": {
        "id": "6d444cd2-9cd7-4b1b-9471-b1f2938019a4"
      },
      "source": [
        "#### Lists"
      ]
    },
    {
      "cell_type": "markdown",
      "id": "1e0b8932-c60d-42f6-8623-322868a4d6ba",
      "metadata": {
        "id": "1e0b8932-c60d-42f6-8623-322868a4d6ba"
      },
      "source": [
        "A list is the Python equivalent of an array, but is resizeable and can contain elements of different types:"
      ]
    },
    {
      "cell_type": "code",
      "execution_count": 36,
      "id": "766f7ace-16c0-48c5-981f-0a3cfd089a01",
      "metadata": {
        "id": "766f7ace-16c0-48c5-981f-0a3cfd089a01"
      },
      "outputs": [
        {
          "name": "stdout",
          "output_type": "stream",
          "text": [
            "[3, 1, 2] 2\n",
            "2\n"
          ]
        }
      ],
      "source": [
        "xs = [3, 1, 2]   # Create a list\n",
        "print(xs, xs[2])\n",
        "print(xs[-1])     # Negative indices count from the end of the list; prints \"2\""
      ]
    },
    {
      "cell_type": "code",
      "execution_count": 37,
      "id": "27e151be-a1b1-4fcd-87c0-937bb017dd42",
      "metadata": {
        "id": "27e151be-a1b1-4fcd-87c0-937bb017dd42"
      },
      "outputs": [
        {
          "name": "stdout",
          "output_type": "stream",
          "text": [
            "[3, 1, 'foo']\n"
          ]
        }
      ],
      "source": [
        "xs[2] = 'foo'    # Lists can contain elements of different types\n",
        "print(xs)"
      ]
    },
    {
      "cell_type": "code",
      "execution_count": 38,
      "id": "d531bf6d-556f-47d0-b221-68b8664d8e91",
      "metadata": {
        "id": "d531bf6d-556f-47d0-b221-68b8664d8e91"
      },
      "outputs": [
        {
          "name": "stdout",
          "output_type": "stream",
          "text": [
            "[3, 1, 'foo', 'bar']\n"
          ]
        }
      ],
      "source": [
        "xs.append('bar') # Add a new element to the end of the list\n",
        "print(xs)"
      ]
    },
    {
      "cell_type": "code",
      "execution_count": 39,
      "id": "3fbed05f-da98-4486-b15c-9854562dd063",
      "metadata": {
        "id": "3fbed05f-da98-4486-b15c-9854562dd063"
      },
      "outputs": [
        {
          "name": "stdout",
          "output_type": "stream",
          "text": [
            "bar [3, 1, 'foo']\n"
          ]
        }
      ],
      "source": [
        "x = xs.pop()     # Remove and return the last element of the list\n",
        "print(x, xs)"
      ]
    },
    {
      "cell_type": "markdown",
      "id": "e9fd384f-34eb-4a55-bd7f-4e6c7a8e08d1",
      "metadata": {
        "id": "e9fd384f-34eb-4a55-bd7f-4e6c7a8e08d1"
      },
      "source": [
        "As usual, you can find all the gory details about lists in the [documentation](https://docs.python.org/3.7/tutorial/datastructures.html#more-on-lists)."
      ]
    },
    {
      "cell_type": "markdown",
      "id": "db8218ad-94bc-4511-821f-dfca826ca4b7",
      "metadata": {
        "id": "db8218ad-94bc-4511-821f-dfca826ca4b7"
      },
      "source": [
        "#### Slicing"
      ]
    },
    {
      "cell_type": "markdown",
      "id": "b154e96b-6fdb-42bd-9128-641885263a17",
      "metadata": {
        "id": "b154e96b-6fdb-42bd-9128-641885263a17"
      },
      "source": [
        "In addition to accessing list elements one at a time, Python provides concise syntax to access sublists; this is known as slicing:"
      ]
    },
    {
      "cell_type": "code",
      "execution_count": 40,
      "id": "04c57dad-7711-4106-8cde-b9c69a536676",
      "metadata": {
        "id": "04c57dad-7711-4106-8cde-b9c69a536676"
      },
      "outputs": [
        {
          "name": "stdout",
          "output_type": "stream",
          "text": [
            "[0, 1, 2, 3, 4]\n",
            "[2, 3]\n",
            "[2, 3, 4]\n",
            "[0, 1]\n",
            "[0, 1, 2, 3, 4]\n",
            "[0, 1, 2, 3]\n",
            "[0, 1, 8, 9, 4]\n"
          ]
        }
      ],
      "source": [
        "nums = list(range(5))    # range is a built-in function that creates a list of integers\n",
        "print(nums)         # Prints \"[0, 1, 2, 3, 4]\"\n",
        "print(nums[2:4])    # Get a slice from index 2 to 4 (exclusive); prints \"[2, 3]\"\n",
        "print(nums[2:])     # Get a slice from index 2 to the end; prints \"[2, 3, 4]\"\n",
        "print(nums[:2])     # Get a slice from the start to index 2 (exclusive); prints \"[0, 1]\"\n",
        "print(nums[:])      # Get a slice of the whole list; prints [\"0, 1, 2, 3, 4]\"\n",
        "print(nums[:-1])    # Slice indices can be negative; prints [\"0, 1, 2, 3]\"\n",
        "nums[2:4] = [8, 9] # Assign a new sublist to a slice\n",
        "print(nums)         # Prints \"[0, 1, 8, 9, 4]\""
      ]
    },
    {
      "cell_type": "markdown",
      "id": "9183399c-3641-4156-ba57-216b380d5ddb",
      "metadata": {
        "id": "9183399c-3641-4156-ba57-216b380d5ddb"
      },
      "source": [
        "#### Dictionaries"
      ]
    },
    {
      "cell_type": "markdown",
      "id": "785ffea8-8ffa-4580-a3bf-379bff45c11f",
      "metadata": {
        "id": "785ffea8-8ffa-4580-a3bf-379bff45c11f"
      },
      "source": [
        "A dictionary stores (key, value) pairs, similar to a `Map` in Java or an object in Javascript. You can use it like this:"
      ]
    },
    {
      "cell_type": "code",
      "execution_count": 41,
      "id": "6ee8109c-6557-464c-8a74-0cec37693915",
      "metadata": {
        "id": "6ee8109c-6557-464c-8a74-0cec37693915"
      },
      "outputs": [
        {
          "name": "stdout",
          "output_type": "stream",
          "text": [
            "cute\n",
            "True\n"
          ]
        }
      ],
      "source": [
        "d = {'cat': 'cute', 'dog': 'furry'}  # Create a new dictionary with some data\n",
        "print(d['cat'])       # Get an entry from a dictionary; prints \"cute\"\n",
        "print('cat' in d)     # Check if a dictionary has a given key; prints \"True\""
      ]
    },
    {
      "cell_type": "code",
      "execution_count": 42,
      "id": "6ad6d6a1-ca21-44ae-a6cf-a2b4dac2c34b",
      "metadata": {
        "id": "6ad6d6a1-ca21-44ae-a6cf-a2b4dac2c34b"
      },
      "outputs": [
        {
          "name": "stdout",
          "output_type": "stream",
          "text": [
            "wet\n"
          ]
        }
      ],
      "source": [
        "d['fish'] = 'wet'    # Set an entry in a dictionary\n",
        "print(d['fish'])      # Prints \"wet\""
      ]
    },
    {
      "cell_type": "code",
      "execution_count": 43,
      "id": "4b413ff1-ef2c-4430-a305-ef9a52c3f55c",
      "metadata": {
        "id": "4b413ff1-ef2c-4430-a305-ef9a52c3f55c"
      },
      "outputs": [
        {
          "ename": "KeyError",
          "evalue": "'monkey'",
          "output_type": "error",
          "traceback": [
            "\u001b[1;31m---------------------------------------------------------------------------\u001b[0m",
            "\u001b[1;31mKeyError\u001b[0m                                  Traceback (most recent call last)",
            "Cell \u001b[1;32mIn[43], line 2\u001b[0m\n\u001b[0;32m      1\u001b[0m \u001b[38;5;66;03m# note: this cell will raise an error\u001b[39;00m\n\u001b[1;32m----> 2\u001b[0m \u001b[38;5;28mprint\u001b[39m(\u001b[43md\u001b[49m\u001b[43m[\u001b[49m\u001b[38;5;124;43m'\u001b[39;49m\u001b[38;5;124;43mmonkey\u001b[39;49m\u001b[38;5;124;43m'\u001b[39;49m\u001b[43m]\u001b[49m)\n",
            "\u001b[1;31mKeyError\u001b[0m: 'monkey'"
          ]
        }
      ],
      "source": [
        "# note: this cell will raise an error\n",
        "print(d['monkey'])  # KeyError: 'monkey' not a key of d"
      ]
    },
    {
      "cell_type": "code",
      "execution_count": null,
      "id": "4fbd3fd1-eddf-41e0-8b1c-aa24162653e2",
      "metadata": {
        "id": "4fbd3fd1-eddf-41e0-8b1c-aa24162653e2"
      },
      "outputs": [],
      "source": [
        "print(d.get('monkey', 'N/A'))  # Get an element with a default; prints \"N/A\"\n",
        "print(d.get('fish', 'N/A'))    # Get an element with a default; prints \"wet\""
      ]
    },
    {
      "cell_type": "code",
      "execution_count": null,
      "id": "e814564d-5d9e-4995-a802-0762f084f462",
      "metadata": {
        "id": "e814564d-5d9e-4995-a802-0762f084f462"
      },
      "outputs": [],
      "source": [
        "del d['fish']        # Remove an element from a dictionary\n",
        "print(d.get('fish', 'N/A')) # \"fish\" is no longer a key; prints \"N/A\""
      ]
    },
    {
      "cell_type": "markdown",
      "id": "3683469a-0808-44b2-81a5-618047afc52f",
      "metadata": {
        "id": "3683469a-0808-44b2-81a5-618047afc52f"
      },
      "source": [
        "You can find all you need to know about dictionaries in the [documentation](https://docs.python.org/2/library/stdtypes.html#dict)."
      ]
    },
    {
      "cell_type": "markdown",
      "id": "a3bf2885-0c4f-442a-bc9a-ab8d81f59baa",
      "metadata": {
        "id": "a3bf2885-0c4f-442a-bc9a-ab8d81f59baa"
      },
      "source": [
        "#### Tuples"
      ]
    },
    {
      "cell_type": "markdown",
      "id": "38b4d206-0bae-4822-8676-8dc9fe6efb9b",
      "metadata": {
        "id": "38b4d206-0bae-4822-8676-8dc9fe6efb9b"
      },
      "source": [
        "A tuple is an (immutable) ordered list of values. A tuple is in many ways similar to a list; one of the most important differences is that tuples can be used as keys in dictionaries and as elements of sets, while lists cannot. Here is a trivial example:"
      ]
    },
    {
      "cell_type": "code",
      "execution_count": null,
      "id": "4446936b-8c79-4a7e-825b-e46168ce19d3",
      "metadata": {
        "id": "4446936b-8c79-4a7e-825b-e46168ce19d3"
      },
      "outputs": [],
      "source": [
        "d = {(x, x + 1): x for x in range(10)}  # Create a dictionary with tuple keys\n",
        "t = (5, 6)       # Create a tuple\n",
        "print(type(t))\n",
        "print(d[t])\n",
        "\n",
        "print(d[(1, 2)])"
      ]
    },
    {
      "cell_type": "code",
      "execution_count": null,
      "id": "6c28bec4-0382-4ad1-b0a1-8c5d284d1dd5",
      "metadata": {
        "id": "6c28bec4-0382-4ad1-b0a1-8c5d284d1dd5"
      },
      "outputs": [],
      "source": [
        "d[0] = 100 # you can change a value in the dictionary...\n",
        "print(d)"
      ]
    },
    {
      "cell_type": "code",
      "execution_count": null,
      "id": "f2133775-b688-47d6-b35c-f3aa077e682e",
      "metadata": {
        "id": "f2133775-b688-47d6-b35c-f3aa077e682e"
      },
      "outputs": [],
      "source": [
        "t[0] = 1 # ...but not a value in the tuple\n",
        "# this cell raises an error! 'tuple' object does not support item assignment"
      ]
    },
    {
      "cell_type": "markdown",
      "id": "39a90481-e97f-41ad-8e1f-4702359ed903",
      "metadata": {
        "id": "39a90481-e97f-41ad-8e1f-4702359ed903"
      },
      "source": [
        "### Control Flow Statements"
      ]
    },
    {
      "cell_type": "markdown",
      "id": "66484cf5-c1b5-4775-89d5-4dd0eea4a057",
      "metadata": {
        "id": "66484cf5-c1b5-4775-89d5-4dd0eea4a057"
      },
      "source": [
        "#### If-Else\n",
        "\n",
        "Conditional statements, often referred to as *if-then* statements, allow the programmer to execute certain pieces of code depending on some Boolean condition.\n",
        "\n",
        "A basic example of a Python conditional statement is this:"
      ]
    },
    {
      "cell_type": "code",
      "execution_count": null,
      "id": "33f6148f-dc20-4f1a-ad51-d1055989a3ff",
      "metadata": {
        "id": "33f6148f-dc20-4f1a-ad51-d1055989a3ff"
      },
      "outputs": [],
      "source": [
        "\n",
        "x = -15\n",
        "\n",
        "if x == 0:\n",
        "    print(x, \"is zero\")\n",
        "elif x > 0:\n",
        "    print(x, \"is positive\")\n",
        "elif x < 0:\n",
        "    print(x, \"is negative\")\n",
        "else:\n",
        "    print(x, \"is unlike anything I've ever seen...\")"
      ]
    },
    {
      "cell_type": "markdown",
      "id": "8deb359a-3183-4764-9306-fe7731fc3610",
      "metadata": {
        "id": "8deb359a-3183-4764-9306-fe7731fc3610"
      },
      "source": [
        "Note especially the use of colons (`:`) and whitespace to denote separate blocks of code.\n",
        "\n",
        "A *block* of code is a set of statements that should be treated as a unit. In C, for example, code blocks are denoted by curly braces:\n",
        "\n",
        "``` c\n",
        "// C code\n",
        "for(int i=0; i<100; i++)\n",
        "   {\n",
        "      // curly braces indicate code block\n",
        "      total += i;\n",
        "   }\n",
        "```\n",
        "\n",
        "In Python, code blocks are denoted by *indentation*:\n",
        "\n",
        "``` python\n",
        "for i in range(100):\n",
        "    # indentation indicates code block\n",
        "    total += i\n",
        "```\n",
        "\n",
        "where all statements that should be evaluated within the “block” are at the same level of indentation.\n",
        "\n",
        "Indented code blocks are always preceded by a colon (`:`) on the previous line."
      ]
    },
    {
      "cell_type": "markdown",
      "id": "9e70c7c2-dac0-486b-b0b3-d752d257c1a0",
      "metadata": {
        "id": "9e70c7c2-dac0-486b-b0b3-d752d257c1a0"
      },
      "source": [
        "#### For\n",
        "\n",
        "Loops in Python are a way to repeatedly execute some code statement. So, for example, if we’d like to print each of the items in a list, we can use a `for` loop:"
      ]
    },
    {
      "cell_type": "code",
      "execution_count": null,
      "id": "2e59881c-ae3d-4037-a9ad-64d95ae1360a",
      "metadata": {
        "id": "2e59881c-ae3d-4037-a9ad-64d95ae1360a"
      },
      "outputs": [],
      "source": [
        "for N in [2, 3, 5, 7]:\n",
        "    print(N, end=' ') # print all on same line"
      ]
    },
    {
      "cell_type": "markdown",
      "id": "8a517fb5-02fa-496c-8bb1-658ec908e827",
      "metadata": {
        "id": "8a517fb5-02fa-496c-8bb1-658ec908e827"
      },
      "source": [
        "Notice the simplicity of the `for` loop: we specify the variable we want to use, the sequence we want to loop over, and use the “`in`” operator to link them together in an intuitive and readable way. More precisely, the object to the right of the “`in`” can be any Python *iterator*.\n",
        "\n",
        "For example, one of the most commonly-used iterators in Python is the `range` object, which generates a sequence of numbers:"
      ]
    },
    {
      "cell_type": "code",
      "execution_count": null,
      "id": "b723af96-6a66-4324-810a-b6b13e6fcfa0",
      "metadata": {
        "id": "b723af96-6a66-4324-810a-b6b13e6fcfa0"
      },
      "outputs": [],
      "source": [
        "for i in range(10):\n",
        "    print(i, end=' ')"
      ]
    },
    {
      "cell_type": "markdown",
      "id": "40b062b8-6c87-4dbb-b617-f1708c537813",
      "metadata": {
        "id": "40b062b8-6c87-4dbb-b617-f1708c537813"
      },
      "source": [
        "Note that the range starts at zero by default, and that by convention the top of the range is not included in the output."
      ]
    },
    {
      "cell_type": "markdown",
      "id": "7559d3b5-d9ad-4df9-9633-6ab823c864ad",
      "metadata": {
        "id": "7559d3b5-d9ad-4df9-9633-6ab823c864ad"
      },
      "source": [
        "We can loop over any list, no matter what type of object is stored in it."
      ]
    },
    {
      "cell_type": "code",
      "execution_count": null,
      "id": "477477e0-07de-4c18-951a-1e07f15ea03c",
      "metadata": {
        "id": "477477e0-07de-4c18-951a-1e07f15ea03c"
      },
      "outputs": [],
      "source": [
        "animals = ['cat', 'dog', 'monkey']\n",
        "for animal in animals:\n",
        "    print(animal)"
      ]
    },
    {
      "cell_type": "markdown",
      "id": "e8d3c9f1-b594-413c-a8ae-3c057235c876",
      "metadata": {
        "id": "e8d3c9f1-b594-413c-a8ae-3c057235c876"
      },
      "source": [
        "If you want access to the index of each element within the body of a loop, use the built-in `enumerate` function:"
      ]
    },
    {
      "cell_type": "code",
      "execution_count": null,
      "id": "47a8d745-8748-41f3-9023-68b2c248fb96",
      "metadata": {
        "id": "47a8d745-8748-41f3-9023-68b2c248fb96"
      },
      "outputs": [],
      "source": [
        "animals = ['cat', 'dog', 'monkey']\n",
        "for idx, animal in enumerate(animals):\n",
        "    print('#{}: {}'.format(idx + 1, animal))"
      ]
    },
    {
      "cell_type": "markdown",
      "id": "d0935db4-c25c-4ea0-9628-a0a35a0e1afc",
      "metadata": {
        "id": "d0935db4-c25c-4ea0-9628-a0a35a0e1afc"
      },
      "source": [
        "It is easy to iterate over the keys in a dictionary:"
      ]
    },
    {
      "cell_type": "code",
      "execution_count": null,
      "id": "1618d8c9-2860-4796-b82a-a86191390631",
      "metadata": {
        "id": "1618d8c9-2860-4796-b82a-a86191390631"
      },
      "outputs": [],
      "source": [
        "d = {'person': 2, 'cat': 4, 'spider': 8}\n",
        "for animal, legs in d.items():\n",
        "    print('A {} has {} legs'.format(animal, legs))"
      ]
    },
    {
      "cell_type": "markdown",
      "id": "e874eb73-e7cf-4264-940b-39c98e1aca5f",
      "metadata": {
        "id": "e874eb73-e7cf-4264-940b-39c98e1aca5f"
      },
      "source": [
        "#### While\n",
        "\n",
        "The other type of loop in Python is a `while` loop, which iterates until some condition is met:"
      ]
    },
    {
      "cell_type": "code",
      "execution_count": null,
      "id": "408dbdc4-e26b-4e64-ac65-8fe43df36492",
      "metadata": {
        "id": "408dbdc4-e26b-4e64-ac65-8fe43df36492"
      },
      "outputs": [],
      "source": [
        "i = 0\n",
        "while i < 10:\n",
        "    print(i, end=' ')\n",
        "    i += 1"
      ]
    },
    {
      "cell_type": "markdown",
      "id": "4b52d4f4-6257-4eec-9ac4-bebda7b0b119",
      "metadata": {
        "id": "4b52d4f4-6257-4eec-9ac4-bebda7b0b119"
      },
      "source": [
        "#### List comprehensions"
      ]
    },
    {
      "cell_type": "markdown",
      "id": "addcb9d1-f93e-4cb3-91c0-adfecc9b0dc2",
      "metadata": {
        "id": "addcb9d1-f93e-4cb3-91c0-adfecc9b0dc2"
      },
      "source": [
        "When programming, frequently we want to transform one type of data into another. As a simple example, consider the following code that computes square numbers:"
      ]
    },
    {
      "cell_type": "code",
      "execution_count": null,
      "id": "0ec1567b-163b-45c1-beed-ab9db6e95a7d",
      "metadata": {
        "id": "0ec1567b-163b-45c1-beed-ab9db6e95a7d"
      },
      "outputs": [],
      "source": [
        "nums = [0, 1, 2, 3, 4]\n",
        "squares = []\n",
        "for x in nums:\n",
        "    squares.append(x ** 2)\n",
        "print(squares)"
      ]
    },
    {
      "cell_type": "markdown",
      "id": "42aaf751-8c87-4486-a36e-9e7341094fe5",
      "metadata": {
        "id": "42aaf751-8c87-4486-a36e-9e7341094fe5"
      },
      "source": [
        "You can make this code simpler using a list comprehension:"
      ]
    },
    {
      "cell_type": "code",
      "execution_count": null,
      "id": "9611888a-08c6-47dd-8955-f8fc04eee49a",
      "metadata": {
        "id": "9611888a-08c6-47dd-8955-f8fc04eee49a"
      },
      "outputs": [],
      "source": [
        "nums = [0, 1, 2, 3, 4]\n",
        "squares = [x ** 2 for x in nums]\n",
        "print(squares)"
      ]
    },
    {
      "cell_type": "markdown",
      "id": "048d5708-ecff-4861-a12d-0d1ab1218460",
      "metadata": {
        "id": "048d5708-ecff-4861-a12d-0d1ab1218460"
      },
      "source": [
        "List comprehensions can also contain conditions:"
      ]
    },
    {
      "cell_type": "code",
      "execution_count": null,
      "id": "ce956a1b-839f-4718-9ddd-ec0f60a89f6b",
      "metadata": {
        "id": "ce956a1b-839f-4718-9ddd-ec0f60a89f6b"
      },
      "outputs": [],
      "source": [
        "nums = [0, 1, 2, 3, 4]\n",
        "even_squares = [x ** 2 for x in nums if x % 2 == 0]\n",
        "print(even_squares)"
      ]
    },
    {
      "cell_type": "markdown",
      "id": "15e8c908-3d45-4aac-97f9-152d4760c2f4",
      "metadata": {
        "id": "15e8c908-3d45-4aac-97f9-152d4760c2f4"
      },
      "source": [
        "Dictionary comprehensions are similar to list comprehensions, but allow you to easily construct dictionaries. For example:"
      ]
    },
    {
      "cell_type": "code",
      "execution_count": null,
      "id": "fc8b5909-6b4f-4cbb-a6fa-d8bbb16c74ca",
      "metadata": {
        "id": "fc8b5909-6b4f-4cbb-a6fa-d8bbb16c74ca"
      },
      "outputs": [],
      "source": [
        "nums = [0, 1, 2, 3, 4]\n",
        "even_num_to_square = {x: x ** 2 for x in nums if x % 2 == 0}\n",
        "print(even_num_to_square)"
      ]
    },
    {
      "cell_type": "markdown",
      "id": "37542d98-0f2e-47f5-afbd-c71f4ddceb7e",
      "metadata": {
        "id": "37542d98-0f2e-47f5-afbd-c71f4ddceb7e"
      },
      "source": [
        "### Errors and Exceptions"
      ]
    },
    {
      "cell_type": "markdown",
      "id": "d5e27f72-65ad-4860-9dcd-566ba4fe9807",
      "metadata": {
        "id": "d5e27f72-65ad-4860-9dcd-566ba4fe9807"
      },
      "source": [
        "When you are working with Python, you are likely to come across errors. When an error occurs, Python tries to explain to you what went wrong, but it takes some experience to interpret the error messages."
      ]
    },
    {
      "cell_type": "markdown",
      "id": "74899e76-617d-4feb-b580-ff103de9bcf9",
      "metadata": {
        "id": "74899e76-617d-4feb-b580-ff103de9bcf9"
      },
      "source": [
        "The code in the following cell will raise a `SyntaxError` because it tries to use a variable name that begins with a number, which is not allowed in Python.\n",
        "\n",
        "Run the code, and look for three key “ingredients” in the error message that is printed to the output:\n",
        "\n",
        "-   the type of error. In this case, it will be a `SyntaxError`. This type of error is raised by the *parser*, which checks to see if the code is valid before passing it to the *runtime* to execute the code.\n",
        "-   an explanation of the error, if available. In this case, the explanation is “invalid syntax”.\n",
        "-   details about where the error was detected. At what line of code, and what point in the line, did the error occur?"
      ]
    },
    {
      "cell_type": "code",
      "execution_count": null,
      "id": "a33dab6a-aff5-4e17-8414-1ec77bd15f80",
      "metadata": {
        "id": "a33dab6a-aff5-4e17-8414-1ec77bd15f80"
      },
      "outputs": [],
      "source": [
        "1st_number = 1"
      ]
    },
    {
      "cell_type": "markdown",
      "id": "74100811-b4d7-4258-b493-ea676539fece",
      "metadata": {
        "id": "74100811-b4d7-4258-b493-ea676539fece"
      },
      "source": [
        "Here are some more examples. Run the following cells, one at a time. Each will trigger an error message. Try to parse the error message by looking for the three “ingredients”.\n",
        "\n",
        "Look up each error type in [the documentation](https://docs.python.org/3/library/exceptions.html). Under what conditions is this error raised?"
      ]
    },
    {
      "cell_type": "code",
      "execution_count": null,
      "id": "4cf83963-c996-4ec5-b977-f5aecfffc35d",
      "metadata": {
        "id": "4cf83963-c996-4ec5-b977-f5aecfffc35d"
      },
      "outputs": [],
      "source": [
        "x=0\n",
        "x++"
      ]
    },
    {
      "cell_type": "code",
      "execution_count": null,
      "id": "1f8397e9-138a-4f4f-a28f-9de7605ac2f5",
      "metadata": {
        "id": "1f8397e9-138a-4f4f-a28f-9de7605ac2f5"
      },
      "outputs": [],
      "source": [
        "x=0\n",
        " x=x+1"
      ]
    },
    {
      "cell_type": "code",
      "execution_count": null,
      "id": "55481ce3-5f36-4f46-85c9-4b2412dad7b7",
      "metadata": {
        "id": "55481ce3-5f36-4f46-85c9-4b2412dad7b7"
      },
      "outputs": [],
      "source": [
        "print('Hello'"
      ]
    },
    {
      "cell_type": "code",
      "execution_count": null,
      "id": "6698fe05-ebc0-4871-a462-7bac131750dd",
      "metadata": {
        "id": "6698fe05-ebc0-4871-a462-7bac131750dd"
      },
      "outputs": [],
      "source": [
        "1 + 'asdf'"
      ]
    },
    {
      "cell_type": "code",
      "execution_count": null,
      "id": "6df0540f-9b2b-40b0-9e09-bd15dbfebf85",
      "metadata": {
        "id": "6df0540f-9b2b-40b0-9e09-bd15dbfebf85"
      },
      "outputs": [],
      "source": [
        "import NoSuchLibrary"
      ]
    },
    {
      "cell_type": "code",
      "execution_count": null,
      "id": "59879ad6-cdb2-4ac6-9367-2e1311e7ac1a",
      "metadata": {
        "id": "59879ad6-cdb2-4ac6-9367-2e1311e7ac1a"
      },
      "outputs": [],
      "source": [
        "print(xyz)"
      ]
    },
    {
      "cell_type": "code",
      "execution_count": null,
      "id": "135127bb-db86-4335-988b-9b7d1944b3f7",
      "metadata": {
        "id": "135127bb-db86-4335-988b-9b7d1944b3f7"
      },
      "outputs": [],
      "source": [
        "x=0\n",
        "5/x"
      ]
    },
    {
      "cell_type": "markdown",
      "id": "df7711a0-e741-43f8-b510-a780ff25ad8a",
      "metadata": {
        "id": "df7711a0-e741-43f8-b510-a780ff25ad8a"
      },
      "source": [
        "### Functions"
      ]
    },
    {
      "cell_type": "markdown",
      "id": "56dadc05-b84c-4494-b4b5-535aec14e7a6",
      "metadata": {
        "id": "56dadc05-b84c-4494-b4b5-535aec14e7a6"
      },
      "source": [
        "Python functions are defined using the `def` keyword. For example:"
      ]
    },
    {
      "cell_type": "code",
      "execution_count": null,
      "id": "3911c811-91e5-4717-a278-0640eddbc960",
      "metadata": {
        "id": "3911c811-91e5-4717-a278-0640eddbc960"
      },
      "outputs": [],
      "source": [
        "def sign(x):\n",
        "    if x > 0:\n",
        "        return 'positive'\n",
        "    elif x < 0:\n",
        "        return 'negative'\n",
        "    else:\n",
        "        return 'zero'\n",
        "\n",
        "for x in [-1, 0, 1]:\n",
        "    print(sign(x))"
      ]
    },
    {
      "cell_type": "markdown",
      "id": "4f423b7e-fb59-4333-940a-410f53428e26",
      "metadata": {
        "id": "4f423b7e-fb59-4333-940a-410f53428e26"
      },
      "source": [
        "We will often define functions to take optional keyword arguments, like this:"
      ]
    },
    {
      "cell_type": "code",
      "execution_count": null,
      "id": "65bb89dc-ba09-46c6-b4b7-d76924b986a4",
      "metadata": {
        "id": "65bb89dc-ba09-46c6-b4b7-d76924b986a4"
      },
      "outputs": [],
      "source": [
        "def hello(name, loud=False):\n",
        "    if loud:\n",
        "        print('HELLO, {}'.format(name.upper()))\n",
        "    else:\n",
        "        print('Hello, {}!'.format(name))\n",
        "\n",
        "hello('Bob')\n",
        "hello('Fred', loud=True)"
      ]
    },
    {
      "cell_type": "markdown",
      "id": "145436b1-9c6d-4e18-8528-d2c69706b822",
      "metadata": {
        "id": "145436b1-9c6d-4e18-8528-d2c69706b822"
      },
      "source": [
        "### Classes"
      ]
    },
    {
      "cell_type": "markdown",
      "id": "0524e7cf-cb4f-4ab4-b247-5faa5ed017fa",
      "metadata": {
        "id": "0524e7cf-cb4f-4ab4-b247-5faa5ed017fa"
      },
      "source": [
        "The syntax for defining classes in Python is straightforward:"
      ]
    },
    {
      "cell_type": "code",
      "execution_count": null,
      "id": "11a1611c-9856-444e-85e4-bc73c23a3376",
      "metadata": {
        "id": "11a1611c-9856-444e-85e4-bc73c23a3376"
      },
      "outputs": [],
      "source": [
        "class Greeter:\n",
        "\n",
        "    # Constructor\n",
        "    def __init__(self, name):\n",
        "        self.name = name  # Create an instance variable\n",
        "\n",
        "    # Instance method\n",
        "    def greet(self, loud=False):\n",
        "        if loud:\n",
        "          print('HELLO, {}'.format(self.name.upper()))\n",
        "        else:\n",
        "          print('Hello, {}!'.format(self.name))\n",
        "\n",
        "g = Greeter('Fred')  # Construct an instance of the Greeter class\n",
        "g.greet()            # Call an instance method; prints \"Hello, Fred\"\n",
        "g.greet(loud=True)   # Call an instance method; prints \"HELLO, FRED!\""
      ]
    },
    {
      "cell_type": "markdown",
      "id": "bf02826b-e527-43b4-a42d-1577c070e3ba",
      "metadata": {
        "id": "bf02826b-e527-43b4-a42d-1577c070e3ba"
      },
      "source": [
        "## Numpy"
      ]
    },
    {
      "cell_type": "markdown",
      "id": "b4cf4645-5505-4059-87fe-1c9c6052958f",
      "metadata": {
        "id": "b4cf4645-5505-4059-87fe-1c9c6052958f"
      },
      "source": [
        "Numpy is the core library for scientific computing in Python. It provides a high-performance multidimensional array object, and tools for working with these arrays. If you are already familiar with MATLAB, you might find this [tutorial](http://wiki.scipy.org/NumPy_for_Matlab_Users) useful to get started with Numpy."
      ]
    },
    {
      "cell_type": "markdown",
      "id": "61e9f793-d834-4362-bd11-47754caa6fd0",
      "metadata": {
        "id": "61e9f793-d834-4362-bd11-47754caa6fd0"
      },
      "source": [
        "To use Numpy, we first need to import the `numpy` package. By convention, we import it using the alias `np`. Then, when we want to use modules or functions in this library, we preface them with `np.`"
      ]
    },
    {
      "cell_type": "code",
      "execution_count": null,
      "id": "03ba5ce8-938d-4219-8237-3e08291c2318",
      "metadata": {
        "id": "03ba5ce8-938d-4219-8237-3e08291c2318"
      },
      "outputs": [],
      "source": [
        "import numpy as np"
      ]
    },
    {
      "cell_type": "markdown",
      "id": "190fe0ab-4ee6-459d-8492-c816258b0286",
      "metadata": {
        "id": "190fe0ab-4ee6-459d-8492-c816258b0286"
      },
      "source": [
        "### Arrays and array construction"
      ]
    },
    {
      "cell_type": "markdown",
      "id": "b86ed7e5-47cf-4dbc-a950-8d6b3ad52f57",
      "metadata": {
        "id": "b86ed7e5-47cf-4dbc-a950-8d6b3ad52f57"
      },
      "source": [
        "A numpy array is a grid of values, all of the same type, and is indexed by a tuple of nonnegative integers. The number of dimensions is the rank of the array; the shape of an array is a tuple of integers giving the size of the array along each dimension."
      ]
    },
    {
      "cell_type": "markdown",
      "id": "0964684d-78c5-4619-8145-d224cffb1d8a",
      "metadata": {
        "id": "0964684d-78c5-4619-8145-d224cffb1d8a"
      },
      "source": [
        "We can create a `numpy` array by passing a Python list to `np.array()`."
      ]
    },
    {
      "cell_type": "code",
      "execution_count": null,
      "id": "8e173212-5a79-437b-a7b6-5346e439de82",
      "metadata": {
        "id": "8e173212-5a79-437b-a7b6-5346e439de82"
      },
      "outputs": [],
      "source": [
        "a = np.array([1, 2, 3])  # Create a rank 1 array"
      ]
    },
    {
      "cell_type": "markdown",
      "id": "eb5aac84-6891-446a-9a67-d5f4309f2ba6",
      "metadata": {
        "id": "eb5aac84-6891-446a-9a67-d5f4309f2ba6"
      },
      "source": [
        "This creates the array we can see on the right here:\n",
        "\n",
        "![](http://jalammar.github.io/images/numpy/create-numpy-array-1.png)"
      ]
    },
    {
      "cell_type": "code",
      "execution_count": null,
      "id": "a5dd201a-213d-417a-8542-e32ceb55a687",
      "metadata": {
        "id": "a5dd201a-213d-417a-8542-e32ceb55a687"
      },
      "outputs": [
        {
          "name": "stdout",
          "output_type": "stream",
          "text": [
            "<class 'numpy.ndarray'> (3,) 1 2 3\n",
            "[5 2 3]\n"
          ]
        }
      ],
      "source": [
        "print(type(a), a.shape, a[0], a[1], a[2])\n",
        "a[0] = 5                 # Change an element of the array\n",
        "print(a)"
      ]
    },
    {
      "cell_type": "markdown",
      "id": "234030fa-8140-4f6e-8b8e-2a94ad931778",
      "metadata": {
        "id": "234030fa-8140-4f6e-8b8e-2a94ad931778"
      },
      "source": [
        "To create a `numpy` array with more dimensions, we can pass nested lists, like this:\n",
        "\n",
        "![](http://jalammar.github.io/images/numpy/numpy-array-create-2d.png)\n",
        "\n",
        "![](http://jalammar.github.io/images/numpy/numpy-3d-array.png)"
      ]
    },
    {
      "cell_type": "code",
      "execution_count": null,
      "id": "3ff3db12-c0d1-4895-8ba7-200bbdf41d0f",
      "metadata": {
        "id": "3ff3db12-c0d1-4895-8ba7-200bbdf41d0f"
      },
      "outputs": [],
      "source": [
        "b = np.array([[1,2],[3,4]])   # Create a rank 2 array\n",
        "print(b)"
      ]
    },
    {
      "cell_type": "code",
      "execution_count": null,
      "id": "3898a66e-cde5-4749-980c-f72e5e453a10",
      "metadata": {
        "id": "3898a66e-cde5-4749-980c-f72e5e453a10"
      },
      "outputs": [],
      "source": [
        "print(b.shape)"
      ]
    },
    {
      "cell_type": "markdown",
      "id": "59994140-982d-44d4-b735-c368cf11ab8c",
      "metadata": {
        "id": "59994140-982d-44d4-b735-c368cf11ab8c"
      },
      "source": [
        "There are often cases when we want numpy to initialize the values of the array for us. numpy provides methods like `ones()`, `zeros()`, and `random.random()` for these cases. We just pass them the number of elements we want it to generate:\n",
        "\n",
        "![](http://jalammar.github.io/images/numpy/create-numpy-array-ones-zeros-random.png)"
      ]
    },
    {
      "cell_type": "markdown",
      "id": "f5cd30f4-91ac-421a-b25a-8cfbddb518c7",
      "metadata": {
        "id": "f5cd30f4-91ac-421a-b25a-8cfbddb518c7"
      },
      "source": [
        "We can also use these methods to produce multi-dimensional arrays, as long as we pass them a tuple describing the dimensions of the matrix we want to create:\n",
        "\n",
        "![](http://jalammar.github.io/images/numpy/numpy-matrix-ones-zeros-random.png)\n",
        "\n",
        "![](http://jalammar.github.io/images/numpy/numpy-3d-array-creation.png)"
      ]
    },
    {
      "cell_type": "markdown",
      "id": "735fccf7-462b-4091-9c87-d1ea8add559c",
      "metadata": {
        "id": "735fccf7-462b-4091-9c87-d1ea8add559c"
      },
      "source": [
        "Sometimes, we need an array of a specific shape with “placeholder” values that we plan to fill in with the result of a computation. The `zeros` or `ones` functions are handy for this:"
      ]
    },
    {
      "cell_type": "code",
      "execution_count": null,
      "id": "61dddfaf-a5eb-4d3d-a59d-85ea7e18d71a",
      "metadata": {
        "id": "61dddfaf-a5eb-4d3d-a59d-85ea7e18d71a"
      },
      "outputs": [],
      "source": [
        "a = np.zeros((2,2))  # Create an array of all zeros\n",
        "print(a)"
      ]
    },
    {
      "cell_type": "code",
      "execution_count": null,
      "id": "aab64565-d940-42ae-915b-58c564384d48",
      "metadata": {
        "id": "aab64565-d940-42ae-915b-58c564384d48"
      },
      "outputs": [],
      "source": [
        "b = np.ones((1,2))   # Create an array of all ones\n",
        "print(b)"
      ]
    },
    {
      "cell_type": "code",
      "execution_count": null,
      "id": "121ece5c-b965-44a1-9643-44c4b29e1c5a",
      "metadata": {
        "id": "121ece5c-b965-44a1-9643-44c4b29e1c5a"
      },
      "outputs": [
        {
          "name": "stdout",
          "output_type": "stream",
          "text": [
            "[[7 7 7 ... 7 7 7]\n",
            " [7 7 7 ... 7 7 7]\n",
            " [7 7 7 ... 7 7 7]\n",
            " ...\n",
            " [7 7 7 ... 7 7 7]\n",
            " [7 7 7 ... 7 7 7]\n",
            " [7 7 7 ... 7 7 7]]\n",
            "CPU times: total: 797 ms\n",
            "Wall time: 2.1 s\n"
          ]
        }
      ],
      "source": [
        "c = np.full((30000,30000), 7) # Create a constant array\n",
        "print(c)"
      ]
    },
    {
      "cell_type": "code",
      "execution_count": null,
      "id": "70627e5f-197d-46cf-984e-dfba32277650",
      "metadata": {
        "id": "70627e5f-197d-46cf-984e-dfba32277650"
      },
      "outputs": [
        {
          "name": "stdout",
          "output_type": "stream",
          "text": [
            "[[1. 0.]\n",
            " [0. 1.]]\n"
          ]
        }
      ],
      "source": [
        "d = np.eye(2)        # Create a 2x2 identity matrix\n",
        "print(d)"
      ]
    },
    {
      "cell_type": "code",
      "execution_count": null,
      "id": "6f0c09f0-3894-47fd-a349-4ecc04fb9aad",
      "metadata": {
        "id": "6f0c09f0-3894-47fd-a349-4ecc04fb9aad"
      },
      "outputs": [
        {
          "name": "stdout",
          "output_type": "stream",
          "text": [
            "[[0.15829729 0.82212551]\n",
            " [0.40964642 0.75732302]]\n"
          ]
        }
      ],
      "source": [
        "e = np.random.random((2,2)) #* Create an array filled with random values\n",
        "print(e)"
      ]
    },
    {
      "cell_type": "markdown",
      "id": "8e48ce8d-88dc-4a78-9c5c-1c1edf7e02cb",
      "metadata": {
        "id": "8e48ce8d-88dc-4a78-9c5c-1c1edf7e02cb"
      },
      "source": [
        "Lastly, I want to mention two very useful functions for creating sequences of numbers within a specified range, namely, arange and linspace. NumPy’s arange function follows the same syntax as Python’s range objects: If two arguments are provided, the first argument represents the start value and the second value defines the stop value of a half-open interval:"
      ]
    },
    {
      "cell_type": "markdown",
      "id": "64c38479-b55e-4dfc-8474-90d4782c0722",
      "metadata": {
        "id": "64c38479-b55e-4dfc-8474-90d4782c0722"
      },
      "source": [
        "Numpy also has two useful functions for creating sequences of numbers: `arange` and `linspace`.\n",
        "\n",
        "The `arange` function accepts three arguments, which define the start value, stop value of a half-open interval, and step size. (The default step size, if not explicitly specified, is 1; the default start value, if not explicitly specified, is 0.)\n",
        "\n",
        "The `linspace` function is similar, but we can specify the number of values instead of the step size, and it will create a sequence of evenly spaced values."
      ]
    },
    {
      "cell_type": "code",
      "execution_count": null,
      "id": "1c6208b2-5503-4fb0-9902-439bf83df7b0",
      "metadata": {
        "id": "1c6208b2-5503-4fb0-9902-439bf83df7b0"
      },
      "outputs": [
        {
          "name": "stdout",
          "output_type": "stream",
          "text": [
            "[10 15 20 25 30 35 40 45]\n"
          ]
        }
      ],
      "source": [
        "f = np.arange(10,50,5)   #* Create an array of values starting at 10 in increments of 5\n",
        "print(f)"
      ]
    },
    {
      "cell_type": "markdown",
      "id": "9d78987c-9542-4ecf-8ce5-153be2bc29a2",
      "metadata": {
        "id": "9d78987c-9542-4ecf-8ce5-153be2bc29a2"
      },
      "source": [
        "Note this ends on 45, not 50 (does not include the top end of the interval)."
      ]
    },
    {
      "cell_type": "code",
      "execution_count": null,
      "id": "9e23b524-d187-4da2-bc91-6fb6ea401764",
      "metadata": {
        "id": "9e23b524-d187-4da2-bc91-6fb6ea401764"
      },
      "outputs": [
        {
          "name": "stdout",
          "output_type": "stream",
          "text": [
            "[0.   0.25 0.5  0.75 1.  ]\n"
          ]
        }
      ],
      "source": [
        "g = np.linspace(0, 1, num=5)    #* Create an array of 5 values evenly spaced between 0 and 1\n",
        "print(g)"
      ]
    },
    {
      "cell_type": "markdown",
      "id": "4a46dbd6-7be1-4cff-99b0-0fa9727e638f",
      "metadata": {
        "id": "4a46dbd6-7be1-4cff-99b0-0fa9727e638f"
      },
      "source": [
        "Sometimes, we may want to construct an array from existing arrays by “stacking” the existing arrays, either vertically or horizontally. We can use `vstack()` (or `row_stack`) and `hstack()` (or `column_stack`), respectively."
      ]
    },
    {
      "cell_type": "code",
      "execution_count": null,
      "id": "8f18be1e-aaf6-4434-83fd-beb4a5f12375",
      "metadata": {
        "id": "8f18be1e-aaf6-4434-83fd-beb4a5f12375"
      },
      "outputs": [
        {
          "data": {
            "text/plain": [
              "array([[1, 2, 3],\n",
              "       [4, 5, 6]])"
            ]
          },
          "execution_count": 31,
          "metadata": {},
          "output_type": "execute_result"
        }
      ],
      "source": [
        "a = np.array([1, 2, 3])\n",
        "b = np.array([4, 5, 6])\n",
        "np.vstack((a,b))    #* Stack arrays vertically"
      ]
    },
    {
      "cell_type": "code",
      "execution_count": null,
      "id": "1b2c6801-7af0-4b5d-a6cc-8e95997c50b4",
      "metadata": {
        "id": "1b2c6801-7af0-4b5d-a6cc-8e95997c50b4"
      },
      "outputs": [
        {
          "data": {
            "text/plain": [
              "array([[7, 4],\n",
              "       [8, 5],\n",
              "       [9, 6]])"
            ]
          },
          "execution_count": 33,
          "metadata": {},
          "output_type": "execute_result"
        }
      ],
      "source": [
        "a = np.array([[7], [8], [9]])\n",
        "b = np.array([[4], [5], [6]])\n",
        "np.hstack((a,b))    #* Stack arrays horizontally"
      ]
    },
    {
      "cell_type": "markdown",
      "id": "e5fcad1c-e41e-49cf-b525-d1346167594a",
      "metadata": {
        "id": "e5fcad1c-e41e-49cf-b525-d1346167594a"
      },
      "source": [
        "### Array indexing"
      ]
    },
    {
      "cell_type": "markdown",
      "id": "83f93d78-5e62-45d1-a37f-3083dd808190",
      "metadata": {
        "id": "83f93d78-5e62-45d1-a37f-3083dd808190"
      },
      "source": [
        "Numpy offers several ways to index into arrays."
      ]
    },
    {
      "cell_type": "markdown",
      "id": "054e77f3-7369-426c-99ee-79ef4ad3252a",
      "metadata": {
        "id": "054e77f3-7369-426c-99ee-79ef4ad3252a"
      },
      "source": [
        "We can index and slice numpy arrays in all the ways we can slice Python lists:\n",
        "\n",
        "![](http://jalammar.github.io/images/numpy/numpy-array-slice.png)\n",
        "\n",
        "And you can index and slice numpy arrays in multiple dimensions. If slicing an array with more than one dimension, you should specify a slice for each dimension:\n",
        "\n",
        "![](http://jalammar.github.io/images/numpy/numpy-matrix-indexing.png)"
      ]
    },
    {
      "cell_type": "code",
      "execution_count": null,
      "id": "d94de2b0-983c-45ca-b36c-524a2db3a32c",
      "metadata": {
        "id": "d94de2b0-983c-45ca-b36c-524a2db3a32c"
      },
      "outputs": [
        {
          "name": "stdout",
          "output_type": "stream",
          "text": [
            "[[2 3]\n",
            " [6 7]]\n"
          ]
        }
      ],
      "source": [
        "# Create the following rank 2 array with shape (3, 4)\n",
        "# [[ 1  2  3  4]\n",
        "#  [ 5  6  7  8]\n",
        "#  [ 9 10 11 12]]\n",
        "a = np.array([[1,2,3,4], [5,6,7,8], [9,10,11,12]])\n",
        "\n",
        "# Use slicing to pull out the subarray consisting of the first 2 rows\n",
        "# and columns 1 and 2; b is the following array of shape (2, 2):\n",
        "# [[2 3]\n",
        "#  [6 7]]\n",
        "b = a[:2, 1:3]\n",
        "print(b)"
      ]
    },
    {
      "cell_type": "markdown",
      "id": "fadca993-9d2e-4dde-9388-6415fadeef98",
      "metadata": {
        "id": "fadca993-9d2e-4dde-9388-6415fadeef98"
      },
      "source": [
        "A slice of an array is a view into the same data, so modifying it will modify the original array."
      ]
    },
    {
      "cell_type": "code",
      "execution_count": null,
      "id": "1041b4a5-4e49-4119-917e-615561fcf570",
      "metadata": {
        "id": "1041b4a5-4e49-4119-917e-615561fcf570"
      },
      "outputs": [
        {
          "name": "stdout",
          "output_type": "stream",
          "text": [
            "2\n",
            "77\n"
          ]
        }
      ],
      "source": [
        "print(a[0, 1])\n",
        "b[0, 0] = 77    # b[0, 0] is the same piece of data as a[0, 1]\n",
        "print(a[0, 1])"
      ]
    },
    {
      "cell_type": "markdown",
      "id": "995e2a9c-2f80-469e-a40c-76a1d94a5841",
      "metadata": {
        "id": "995e2a9c-2f80-469e-a40c-76a1d94a5841"
      },
      "source": [
        "You can also mix integer indexing with slice indexing. However, doing so will yield an array of lower rank than the original array. Note that this is quite different from the way that MATLAB handles array slicing:"
      ]
    },
    {
      "cell_type": "code",
      "execution_count": null,
      "id": "b608b60c-5379-497f-9e11-d8f2caf05c55",
      "metadata": {
        "id": "b608b60c-5379-497f-9e11-d8f2caf05c55"
      },
      "outputs": [],
      "source": [
        "# Create the following rank 2 array with shape (3, 4)\n",
        "a = np.array([[1,2,3,4], [5,6,7,8], [9,10,11,12]])\n",
        "print(a)"
      ]
    },
    {
      "cell_type": "markdown",
      "id": "58f38253-463c-48d0-a702-3ddf94120629",
      "metadata": {
        "id": "58f38253-463c-48d0-a702-3ddf94120629"
      },
      "source": [
        "Two ways of accessing the data in the middle row of the array. Mixing integer indexing with slices yields an array of lower rank, while using only slices yields an array of the same rank as the original array:"
      ]
    },
    {
      "cell_type": "code",
      "execution_count": null,
      "id": "0c3dd6e7-04b8-4f7a-b233-117cde5e2b4e",
      "metadata": {
        "id": "0c3dd6e7-04b8-4f7a-b233-117cde5e2b4e"
      },
      "outputs": [
        {
          "name": "stdout",
          "output_type": "stream",
          "text": [
            "[5 6 7 8] (4,)\n",
            "[[5 6 7 8]] (1, 4)\n",
            "[[5 6 7 8]] (1, 4)\n"
          ]
        }
      ],
      "source": [
        "row_r1 = a[1, :]    # Rank 1 view of the second row of a\n",
        "row_r2 = a[1:2, :]  # Rank 2 view of the second row of a because 1:2 is a slice so it is still 2D\n",
        "row_r3 = a[[1], :]  # Rank 2 view of the second row of a\n",
        "print(row_r1, row_r1.shape)\n",
        "print(row_r2, row_r2.shape)\n",
        "print(row_r3, row_r3.shape)"
      ]
    },
    {
      "cell_type": "code",
      "execution_count": null,
      "id": "d1c9bb25-d326-454b-89e3-be5139149855",
      "metadata": {
        "id": "d1c9bb25-d326-454b-89e3-be5139149855"
      },
      "outputs": [
        {
          "name": "stdout",
          "output_type": "stream",
          "text": [
            "[77  6 10] (3,)\n",
            "\n",
            "[[77]\n",
            " [ 6]\n",
            " [10]] (3, 1)\n"
          ]
        }
      ],
      "source": [
        "# We can make the same distinction when accessing columns of an array:\n",
        "col_r1 = a[:, 1]\n",
        "col_r2 = a[:, 1:2]\n",
        "print(col_r1, col_r1.shape)\n",
        "print()\n",
        "print(col_r2, col_r2.shape)"
      ]
    },
    {
      "cell_type": "markdown",
      "id": "a7835461-34e9-4437-8f9b-ad6b909de079",
      "metadata": {
        "id": "a7835461-34e9-4437-8f9b-ad6b909de079"
      },
      "source": [
        "Integer array indexing: When you index into numpy arrays using slicing, the resulting array view will always be a subarray of the original array. In contrast, integer array indexing allows you to construct arbitrary arrays using the data from another array. Here is an example:"
      ]
    },
    {
      "cell_type": "code",
      "execution_count": null,
      "id": "806d91e7-981a-4955-9e1b-ea0226eec00e",
      "metadata": {
        "id": "806d91e7-981a-4955-9e1b-ea0226eec00e"
      },
      "outputs": [
        {
          "name": "stdout",
          "output_type": "stream",
          "text": [
            "[1 4 5]\n",
            "[1 4 5]\n"
          ]
        }
      ],
      "source": [
        "a = np.array([[1,2], [3, 4], [5, 6]])\n",
        "\n",
        "# An example of integer array indexing.\n",
        "# The returned array will have shape (3,) and\n",
        "print(a[[0, 1, 2], [0, 1, 0]])\n",
        "\n",
        "# The above example of integer array indexing is equivalent to this:\n",
        "print(np.array([a[0, 0], a[1, 1], a[2, 0]]))"
      ]
    },
    {
      "cell_type": "code",
      "execution_count": null,
      "id": "07ae8f7b-ea13-4cfe-b26a-3fb6cdda4bdd",
      "metadata": {
        "id": "07ae8f7b-ea13-4cfe-b26a-3fb6cdda4bdd"
      },
      "outputs": [
        {
          "name": "stdout",
          "output_type": "stream",
          "text": [
            "[2 2]\n",
            "[2 2]\n"
          ]
        }
      ],
      "source": [
        "# When using integer array indexing, you can reuse the same\n",
        "# element from the source array:\n",
        "print(a[[0, 0], [1, 1]])\n",
        "\n",
        "# Equivalent to the previous integer array indexing example\n",
        "print(np.array([a[0, 1], a[0, 1]]))"
      ]
    },
    {
      "cell_type": "markdown",
      "id": "24ebdd61-2313-4aec-a02a-e4b898906ec5",
      "metadata": {
        "id": "24ebdd61-2313-4aec-a02a-e4b898906ec5"
      },
      "source": [
        "One useful trick with integer array indexing is selecting or mutating one element from each row of a matrix:"
      ]
    },
    {
      "cell_type": "code",
      "execution_count": null,
      "id": "1260ecb9-799c-4a08-8d77-5da2abc5db8f",
      "metadata": {
        "id": "1260ecb9-799c-4a08-8d77-5da2abc5db8f"
      },
      "outputs": [
        {
          "name": "stdout",
          "output_type": "stream",
          "text": [
            "[[ 1  2  3]\n",
            " [ 4  5  6]\n",
            " [ 7  8  9]\n",
            " [10 11 12]]\n"
          ]
        }
      ],
      "source": [
        "# Create a new array from which we will select elements\n",
        "a = np.array([[1,2,3], [4,5,6], [7,8,9], [10, 11, 12]])\n",
        "print(a)"
      ]
    },
    {
      "cell_type": "code",
      "execution_count": null,
      "id": "76d3c86a-3d03-423d-909b-09598b903965",
      "metadata": {
        "id": "76d3c86a-3d03-423d-909b-09598b903965"
      },
      "outputs": [
        {
          "name": "stdout",
          "output_type": "stream",
          "text": [
            "[ 1  6  7 11]\n"
          ]
        }
      ],
      "source": [
        "# Create an array of indices\n",
        "b = np.array([0, 2, 0, 1])\n",
        "\n",
        "# Select one element from each row of a using the indices in b\n",
        "print(a[np.arange(4), b])  # Prints \"[ 1  6  7 11]\""
      ]
    },
    {
      "cell_type": "code",
      "execution_count": null,
      "id": "4a3a192e-ba4f-481e-92c5-2b625bcb2a80",
      "metadata": {
        "id": "4a3a192e-ba4f-481e-92c5-2b625bcb2a80"
      },
      "outputs": [
        {
          "name": "stdout",
          "output_type": "stream",
          "text": [
            "[[11  2  3]\n",
            " [ 4  5 16]\n",
            " [17  8  9]\n",
            " [10 21 12]]\n"
          ]
        }
      ],
      "source": [
        "# Mutate one element from each row of a using the indices in b\n",
        "a[np.arange(4), b] += 10\n",
        "print(a)"
      ]
    },
    {
      "cell_type": "markdown",
      "id": "e61369aa-296b-428c-84df-54a0e3a69e31",
      "metadata": {
        "id": "e61369aa-296b-428c-84df-54a0e3a69e31"
      },
      "source": [
        "Boolean array indexing: Boolean array indexing lets you pick out arbitrary elements of an array. Frequently this type of indexing is used to select the elements of an array that satisfy some condition. Here is an example:"
      ]
    },
    {
      "cell_type": "code",
      "execution_count": null,
      "id": "92dd26a4-a2d2-4d0d-9d9a-6c9de8d4dbcd",
      "metadata": {
        "id": "92dd26a4-a2d2-4d0d-9d9a-6c9de8d4dbcd"
      },
      "outputs": [
        {
          "name": "stdout",
          "output_type": "stream",
          "text": [
            "[[False False]\n",
            " [ True  True]\n",
            " [ True  True]]\n"
          ]
        }
      ],
      "source": [
        "import numpy as np\n",
        "\n",
        "a = np.array([[1,2], [3, 4], [5, 6]])\n",
        "\n",
        "bool_idx = (a > 2)  # Find the elements of a that are bigger than 2;\n",
        "                    # this returns a numpy array of Booleans of the same\n",
        "                    # shape as a, where each slot of bool_idx tells\n",
        "                    # whether that element of a is > 2.\n",
        "\n",
        "print(bool_idx)"
      ]
    },
    {
      "cell_type": "code",
      "execution_count": null,
      "id": "52f31c05-406f-4c5d-ad25-212194c69cd0",
      "metadata": {
        "id": "52f31c05-406f-4c5d-ad25-212194c69cd0"
      },
      "outputs": [
        {
          "name": "stdout",
          "output_type": "stream",
          "text": [
            "[3 4 5 6]\n",
            "[3 4 5 6]\n"
          ]
        }
      ],
      "source": [
        "# We use boolean array indexing to construct a rank 1 array\n",
        "# consisting of the elements of a corresponding to the True values\n",
        "# of bool_idx\n",
        "print(a[bool_idx])\n",
        "\n",
        "# We can do all of the above in a single concise statement:\n",
        "print(a[a > 2])"
      ]
    },
    {
      "cell_type": "markdown",
      "id": "ebb38476-c368-49d4-87cf-ac5c57c7eca8",
      "metadata": {
        "id": "ebb38476-c368-49d4-87cf-ac5c57c7eca8"
      },
      "source": [
        "When working with numpy arrays, it’s often helpful to get the *indices* (not only the values) of array elements that meet certain conditions. There are a few numpy functions that you’ll definitely want to remember:\n",
        "\n",
        "-   [`argmax`](https://numpy.org/doc/stable/reference/generated/numpy.argmax.html) (get index of maximum element in array)\n",
        "-   [`argmin`](https://numpy.org/doc/stable/reference/generated/numpy.argmin.html) (get index of minimum element in array)\n",
        "-   [`argsort`](https://numpy.org/doc/stable/reference/generated/numpy.argsort.html) (get sorted list of indices, by element value, in ascending order)\n",
        "-   [`where`](https://numpy.org/doc/stable/reference/generated/numpy.where.html) (get indices of elements that meet some condition)"
      ]
    },
    {
      "cell_type": "code",
      "execution_count": null,
      "id": "c26e1c0c-8c12-4df9-99cd-9614e36b64ae",
      "metadata": {
        "id": "c26e1c0c-8c12-4df9-99cd-9614e36b64ae"
      },
      "outputs": [
        {
          "name": "stdout",
          "output_type": "stream",
          "text": [
            "2\n",
            "3\n",
            "[3 0 4 5 6 1 2 7]\n",
            "[7 2 1 6 5 4 0 3]\n",
            "[1 2 6 7]\n",
            "[2 7]\n"
          ]
        }
      ],
      "source": [
        "a = np.array([1, 8, 9, -3, 2, 4, 7, 9])\n",
        "\n",
        "# Get the index of the maximum element in a\n",
        "print(np.argmax(a))\n",
        "\n",
        "# Get the index of the minimum element in a\n",
        "# (this array has two elements with the maximum value -\n",
        "# only one index is returned)\n",
        "print(np.argmin(a))\n",
        "\n",
        "# Get sorted list of indices\n",
        "print(np.argsort(a))\n",
        "\n",
        "# Get sorted list of indices in descending order\n",
        "# [::-1] is a special slicing index that returns the reversed list\n",
        "print(np.argsort(a)[::-1])\n",
        "\n",
        "# Get indices of elements that meet some condition\n",
        "#* this returns a tuple, the list of indices is the first entry\n",
        "#* so we use [0] to get it\n",
        "print(np.where(a > 5)[0])\n",
        "\n",
        "# Get indices of elements that meet some condition\n",
        "# this example shows how to get the index of *all* the max values\n",
        "print(np.where(a >= a[np.argmax(a)])[0])"
      ]
    },
    {
      "cell_type": "markdown",
      "id": "83e9e67d-6b7c-4b76-897a-ed48c3d578f9",
      "metadata": {
        "id": "83e9e67d-6b7c-4b76-897a-ed48c3d578f9"
      },
      "source": [
        "For brevity we have left out a lot of details about numpy array indexing; if you want to know more you should read the documentation."
      ]
    },
    {
      "cell_type": "markdown",
      "id": "7ab927d6-f7d6-4b6f-ad1d-60451d55b670",
      "metadata": {
        "id": "7ab927d6-f7d6-4b6f-ad1d-60451d55b670"
      },
      "source": [
        "### Datatypes"
      ]
    },
    {
      "cell_type": "markdown",
      "id": "3ccb9dea-1ee7-42e8-b5b9-a623fe7ab745",
      "metadata": {
        "id": "3ccb9dea-1ee7-42e8-b5b9-a623fe7ab745"
      },
      "source": [
        "Every numpy array is a grid of elements of the same type. Numpy provides a large set of numeric datatypes that you can use to construct arrays. Numpy tries to guess a datatype when you create an array, but functions that construct arrays usually also include an optional argument to explicitly specify the datatype. Here is an example:"
      ]
    },
    {
      "cell_type": "code",
      "execution_count": null,
      "id": "2b021a07-6390-4216-931d-06bf28a996dc",
      "metadata": {
        "id": "2b021a07-6390-4216-931d-06bf28a996dc"
      },
      "outputs": [
        {
          "name": "stdout",
          "output_type": "stream",
          "text": [
            "int32 float64 int64\n"
          ]
        }
      ],
      "source": [
        "x = np.array([1, 2])  # Let numpy choose the datatype\n",
        "y = np.array([1.0, 2.0])  # Let numpy choose the datatype\n",
        "z = np.array([1, 2], dtype=np.int64)  # Force a particular datatype\n",
        "\n",
        "print(x.dtype, y.dtype, z.dtype)"
      ]
    },
    {
      "cell_type": "markdown",
      "id": "b884c694-57a4-49d3-9df5-8a6898934831",
      "metadata": {
        "id": "b884c694-57a4-49d3-9df5-8a6898934831"
      },
      "source": [
        "You can read all about numpy datatypes in the [documentation](http://docs.scipy.org/doc/numpy/reference/arrays.dtypes.html)."
      ]
    },
    {
      "cell_type": "markdown",
      "id": "cb3c901b-b344-400d-9e0f-b2fa70e28e4d",
      "metadata": {
        "id": "cb3c901b-b344-400d-9e0f-b2fa70e28e4d"
      },
      "source": [
        "### Array math"
      ]
    },
    {
      "cell_type": "markdown",
      "id": "2fea02dd-c4f7-4bd4-8006-9a2cb0c7cef2",
      "metadata": {
        "id": "2fea02dd-c4f7-4bd4-8006-9a2cb0c7cef2"
      },
      "source": [
        "What makes working with `numpy` so powerful and convenient is that it comes with many *vectorized* math functions for computation over elements of an array. These functions are highly optimized and are *very* fast - much, much faster than using an explicit `for` loop.\n",
        "\n",
        "For example, let’s create a large array of random values and then sum it both ways. We’ll use a `%%time` *cell magic* to time them."
      ]
    },
    {
      "cell_type": "code",
      "execution_count": null,
      "id": "92314cea-6001-4207-b40e-d0208a1597e2",
      "metadata": {
        "id": "92314cea-6001-4207-b40e-d0208a1597e2"
      },
      "outputs": [],
      "source": [
        "a = np.random.random(100000000)"
      ]
    },
    {
      "cell_type": "code",
      "execution_count": null,
      "id": "33a4e0ed-340e-436c-882a-df2224c8af21",
      "metadata": {
        "id": "33a4e0ed-340e-436c-882a-df2224c8af21"
      },
      "outputs": [
        {
          "name": "stdout",
          "output_type": "stream",
          "text": [
            "CPU times: total: 31.2 ms\n",
            "Wall time: 66.2 ms\n"
          ]
        }
      ],
      "source": [
        "%%time\n",
        "x = np.sum(a)"
      ]
    },
    {
      "cell_type": "code",
      "execution_count": null,
      "id": "7252032c-bc87-4124-bb9d-0d2fada3e226",
      "metadata": {
        "id": "7252032c-bc87-4124-bb9d-0d2fada3e226"
      },
      "outputs": [
        {
          "name": "stdout",
          "output_type": "stream",
          "text": [
            "CPU times: total: 1.83 s\n",
            "Wall time: 10.3 s\n"
          ]
        }
      ],
      "source": [
        "%%time\n",
        "x = 0\n",
        "for element in a:\n",
        "  x = x + element"
      ]
    },
    {
      "cell_type": "markdown",
      "id": "c75990d9-6999-40a2-a0e3-e8207110676a",
      "metadata": {
        "id": "c75990d9-6999-40a2-a0e3-e8207110676a"
      },
      "source": [
        "Look at the “Wall Time” in the output - note how much faster the vectorized version of the operation is! This type of fast computation is a major enabler of machine learning, which requires a *lot* of computation.\n",
        "\n",
        "Whenever possible, we will try to use these vectorized operations."
      ]
    },
    {
      "cell_type": "markdown",
      "id": "b2120332-98ac-4685-9488-054a21ec141f",
      "metadata": {
        "id": "b2120332-98ac-4685-9488-054a21ec141f"
      },
      "source": [
        "Some mathematic functions are available both as operator overloads and as functions in the numpy module."
      ]
    },
    {
      "cell_type": "markdown",
      "id": "604243cf-4411-44a3-9b25-789631caf959",
      "metadata": {
        "id": "604243cf-4411-44a3-9b25-789631caf959"
      },
      "source": [
        "For example, you can perform an elementwise sum on two arrays using either the + operator or the `add()` function.\n",
        "\n",
        "![](http://jalammar.github.io/images/numpy/numpy-arrays-adding-1.png)\n",
        "\n",
        "![](http://jalammar.github.io/images/numpy/numpy-matrix-arithmetic.png)"
      ]
    },
    {
      "cell_type": "code",
      "execution_count": null,
      "id": "e6d49bb6-ebfe-4416-8a7f-c1f5b77e5e8a",
      "metadata": {
        "id": "e6d49bb6-ebfe-4416-8a7f-c1f5b77e5e8a"
      },
      "outputs": [
        {
          "name": "stdout",
          "output_type": "stream",
          "text": [
            "[[ 6.  8.]\n",
            " [10. 12.]]\n",
            "[[ 6.  8.]\n",
            " [10. 12.]]\n"
          ]
        }
      ],
      "source": [
        "x = np.array([[1,2],[3,4]], dtype=np.float64)\n",
        "y = np.array([[5,6],[7,8]], dtype=np.float64)\n",
        "\n",
        "# Elementwise sum; both produce the array\n",
        "print(x + y)\n",
        "print(np.add(x, y))"
      ]
    },
    {
      "cell_type": "markdown",
      "id": "66adf079-d0e8-4ceb-ae88-4e78447bb6d5",
      "metadata": {
        "id": "66adf079-d0e8-4ceb-ae88-4e78447bb6d5"
      },
      "source": [
        "And this works for other operations as well, not only addition:\n",
        "\n",
        "![](http://jalammar.github.io/images/numpy/numpy-array-subtract-multiply-divide.png)"
      ]
    },
    {
      "cell_type": "code",
      "execution_count": null,
      "id": "83178bc8-6909-42ad-af86-1a7a76516a4c",
      "metadata": {
        "id": "83178bc8-6909-42ad-af86-1a7a76516a4c"
      },
      "outputs": [
        {
          "name": "stdout",
          "output_type": "stream",
          "text": [
            "[[-4. -4.]\n",
            " [-4. -4.]]\n",
            "[[-4. -4.]\n",
            " [-4. -4.]]\n"
          ]
        }
      ],
      "source": [
        "# Elementwise difference; both produce the array\n",
        "print(x - y)\n",
        "print(np.subtract(x, y))"
      ]
    },
    {
      "cell_type": "code",
      "execution_count": null,
      "id": "3bbca1af-53ab-44d7-a9df-e5a69463f715",
      "metadata": {
        "id": "3bbca1af-53ab-44d7-a9df-e5a69463f715"
      },
      "outputs": [
        {
          "name": "stdout",
          "output_type": "stream",
          "text": [
            "[[ 5. 12.]\n",
            " [21. 32.]]\n",
            "[[ 5. 12.]\n",
            " [21. 32.]]\n"
          ]
        }
      ],
      "source": [
        "# Elementwise product; both produce the array\n",
        "print(x * y)\n",
        "print(np.multiply(x, y))"
      ]
    },
    {
      "cell_type": "code",
      "execution_count": null,
      "id": "e98baa36-56e0-4fdc-b371-ebe02e600e0f",
      "metadata": {
        "id": "e98baa36-56e0-4fdc-b371-ebe02e600e0f"
      },
      "outputs": [
        {
          "name": "stdout",
          "output_type": "stream",
          "text": [
            "[[0.2        0.33333333]\n",
            " [0.42857143 0.5       ]]\n",
            "[[0.2        0.33333333]\n",
            " [0.42857143 0.5       ]]\n"
          ]
        }
      ],
      "source": [
        "# Elementwise division; both produce the array\n",
        "# [[ 0.2         0.33333333]\n",
        "#  [ 0.42857143  0.5       ]]\n",
        "print(x / y)\n",
        "print(np.divide(x, y))"
      ]
    },
    {
      "cell_type": "code",
      "execution_count": null,
      "id": "226ebb2f-a24c-4f22-ae1c-d4c5302882a8",
      "metadata": {
        "id": "226ebb2f-a24c-4f22-ae1c-d4c5302882a8"
      },
      "outputs": [
        {
          "name": "stdout",
          "output_type": "stream",
          "text": [
            "[[1.         1.41421356]\n",
            " [1.73205081 2.        ]]\n"
          ]
        }
      ],
      "source": [
        "# Elementwise square root; produces the array\n",
        "# [[ 1.          1.41421356]\n",
        "#  [ 1.73205081  2.        ]]\n",
        "print(np.sqrt(x))"
      ]
    },
    {
      "cell_type": "markdown",
      "id": "d2125bff-5063-482e-97ac-f997665fe8a9",
      "metadata": {
        "id": "d2125bff-5063-482e-97ac-f997665fe8a9"
      },
      "source": [
        "Note that unlike MATLAB, `*` is elementwise multiplication, not matrix multiplication. We instead use the `dot()` function to compute inner products of vectors, to multiply a vector by a matrix, and to multiply matrices. `dot()` is available both as a function in the numpy module and as an instance method of array objects:\n",
        "\n",
        "![](http://jalammar.github.io/images/numpy/numpy-matrix-dot-product-1.png)"
      ]
    },
    {
      "cell_type": "code",
      "execution_count": null,
      "id": "6e8eaf91-4f6a-4c82-b2a9-b4ab9c840554",
      "metadata": {
        "id": "6e8eaf91-4f6a-4c82-b2a9-b4ab9c840554"
      },
      "outputs": [
        {
          "name": "stdout",
          "output_type": "stream",
          "text": [
            "219\n",
            "219\n"
          ]
        }
      ],
      "source": [
        "x = np.array([[1,2],[3,4]])\n",
        "y = np.array([[5,6],[7,8]])\n",
        "\n",
        "v = np.array([9,10])\n",
        "w = np.array([11, 12])\n",
        "\n",
        "# Inner product of vectors; both produce 219\n",
        "print(v.dot(w))\n",
        "print(np.dot(v, w))"
      ]
    },
    {
      "cell_type": "markdown",
      "id": "15dfbf0b-74c0-4684-81a9-851d4ebabe6a",
      "metadata": {
        "id": "15dfbf0b-74c0-4684-81a9-851d4ebabe6a"
      },
      "source": [
        "You can also use the `@` operator which is equivalent to numpy's `dot` operator."
      ]
    },
    {
      "cell_type": "code",
      "execution_count": null,
      "id": "d0168e19-0fbe-43fc-a561-43db3eab3e6a",
      "metadata": {
        "id": "d0168e19-0fbe-43fc-a561-43db3eab3e6a"
      },
      "outputs": [
        {
          "name": "stdout",
          "output_type": "stream",
          "text": [
            "219\n"
          ]
        }
      ],
      "source": [
        "print(v @ w)"
      ]
    },
    {
      "cell_type": "code",
      "execution_count": null,
      "id": "ed5a07e9-5e8c-4e92-9db6-9e0e7daf8e27",
      "metadata": {
        "id": "ed5a07e9-5e8c-4e92-9db6-9e0e7daf8e27"
      },
      "outputs": [
        {
          "name": "stdout",
          "output_type": "stream",
          "text": [
            "[29 67]\n",
            "[29 67]\n",
            "[29 67]\n"
          ]
        }
      ],
      "source": [
        "# Matrix / vector product; both produce the rank 1 array [29 67]\n",
        "print(x.dot(v))\n",
        "print(np.dot(x, v))\n",
        "print(x @ v)"
      ]
    },
    {
      "cell_type": "code",
      "execution_count": null,
      "id": "e42300f0-be37-4c96-9d21-7c67cf06d370",
      "metadata": {
        "id": "e42300f0-be37-4c96-9d21-7c67cf06d370"
      },
      "outputs": [
        {
          "name": "stdout",
          "output_type": "stream",
          "text": [
            "[[19 22]\n",
            " [43 50]]\n",
            "[[19 22]\n",
            " [43 50]]\n",
            "[[19 22]\n",
            " [43 50]]\n"
          ]
        }
      ],
      "source": [
        "# Matrix / matrix product; both produce the rank 2 array\n",
        "# [[19 22]\n",
        "#  [43 50]]\n",
        "print(x.dot(y))\n",
        "print(np.dot(x, y))\n",
        "print(x @ y)"
      ]
    },
    {
      "cell_type": "markdown",
      "id": "df7ccfe0-587f-46e6-83c4-6a6cc38ff1ea",
      "metadata": {
        "id": "df7ccfe0-587f-46e6-83c4-6a6cc38ff1ea"
      },
      "source": [
        "Besides for the functions that overload operators, Numpy also provides many useful functions for performing computations on arrays, such as `min()`, `max()`, `sum()`, and others:\n",
        "\n",
        "![](http://jalammar.github.io/images/numpy/numpy-matrix-aggregation-1.png)"
      ]
    },
    {
      "cell_type": "code",
      "execution_count": null,
      "id": "66adf5e5-773e-48fd-aff1-b42cec7a0491",
      "metadata": {
        "id": "66adf5e5-773e-48fd-aff1-b42cec7a0491"
      },
      "outputs": [
        {
          "name": "stdout",
          "output_type": "stream",
          "text": [
            "6\n",
            "1\n",
            "21\n"
          ]
        }
      ],
      "source": [
        "x = np.array([[1, 2], [3, 4], [5, 6]])\n",
        "\n",
        "print(np.max(x))  # Compute max of all elements; prints \"6\"\n",
        "print(np.min(x))  # Compute min of all elements; prints \"1\"\n",
        "print(np.sum(x))  # Compute sum of all elements; prints \"21\""
      ]
    },
    {
      "cell_type": "markdown",
      "id": "96121e02-4803-40ec-a8be-5c054519754d",
      "metadata": {
        "id": "96121e02-4803-40ec-a8be-5c054519754d"
      },
      "source": [
        "Not only can we aggregate all the values in a matrix using these functions, but we can also aggregate across the rows or columns by using the `axis` parameter:\n",
        "\n",
        "![](http://jalammar.github.io/images/numpy/numpy-matrix-aggregation-4.png)"
      ]
    },
    {
      "cell_type": "code",
      "execution_count": null,
      "id": "c5b0a1f4-4a9e-4d6f-aec0-21473253cda3",
      "metadata": {
        "id": "c5b0a1f4-4a9e-4d6f-aec0-21473253cda3"
      },
      "outputs": [
        {
          "name": "stdout",
          "output_type": "stream",
          "text": [
            "[5 6]\n",
            "[2 5 6]\n"
          ]
        }
      ],
      "source": [
        "x = np.array([[1, 2], [5, 3], [4, 6]])\n",
        "\n",
        "print(np.max(x, axis=0))  # Compute max of each column; prints \"[5 6]\"\n",
        "print(np.max(x, axis=1))  # Compute max of each row; prints \"[2 5 6]\""
      ]
    },
    {
      "cell_type": "markdown",
      "id": "e9b3473b-9d78-49b4-b405-9dcf386b93e0",
      "metadata": {
        "id": "e9b3473b-9d78-49b4-b405-9dcf386b93e0"
      },
      "source": [
        "You can find the full list of mathematical functions provided by numpy in the [documentation](http://docs.scipy.org/doc/numpy/reference/routines.math.html)."
      ]
    },
    {
      "cell_type": "markdown",
      "id": "d39ad048-edd3-4c0c-9620-13a8ba6cbf01",
      "metadata": {
        "id": "d39ad048-edd3-4c0c-9620-13a8ba6cbf01"
      },
      "source": [
        "Apart from computing mathematical functions using arrays, we frequently need to reshape or otherwise manipulate data in arrays. The simplest example of this type of operation is transposing a matrix; to transpose a matrix, simply use the T attribute of an array object.\n",
        "\n",
        "![](http://jalammar.github.io/images/numpy/numpy-transpose.png)"
      ]
    },
    {
      "cell_type": "code",
      "execution_count": null,
      "id": "d50bc55d-177e-4d6a-aea9-291c48620eba",
      "metadata": {
        "id": "d50bc55d-177e-4d6a-aea9-291c48620eba"
      },
      "outputs": [
        {
          "name": "stdout",
          "output_type": "stream",
          "text": [
            "[[1 2]\n",
            " [3 4]\n",
            " [5 6]]\n",
            "transpose\n",
            " [[1 3 5]\n",
            " [2 4 6]]\n"
          ]
        }
      ],
      "source": [
        "x = np.array([[1, 2], [3, 4], [5, 6]])\n",
        "\n",
        "print(x)\n",
        "print(\"transpose\\n\", x.T)"
      ]
    },
    {
      "cell_type": "code",
      "execution_count": null,
      "id": "ddb52688-8f4d-4eb4-8249-c63a56b639a2",
      "metadata": {
        "id": "ddb52688-8f4d-4eb4-8249-c63a56b639a2"
      },
      "outputs": [
        {
          "name": "stdout",
          "output_type": "stream",
          "text": [
            "[[1 2 3]]\n",
            "transpose\n",
            " [[1]\n",
            " [2]\n",
            " [3]]\n"
          ]
        }
      ],
      "source": [
        "v = np.array([[1,2,3]])\n",
        "print(v )\n",
        "print(\"transpose\\n\", v.T)"
      ]
    },
    {
      "cell_type": "markdown",
      "id": "aed0f9ad-f114-42a5-aae1-09672bdffc97",
      "metadata": {
        "id": "aed0f9ad-f114-42a5-aae1-09672bdffc97"
      },
      "source": [
        "In more advanced use case, you may find yourself needing to change the dimensions of a certain matrix. This is often the case in machine learning applications where a certain model expects a certain shape for the inputs that is different from your dataset. numpy's `reshape()` method is useful in these cases.\n",
        "\n",
        "![](http://jalammar.github.io/images/numpy/numpy-reshape.png)"
      ]
    },
    {
      "cell_type": "markdown",
      "id": "59c09a49-bad1-4c70-a137-7c9a3c26d625",
      "metadata": {
        "id": "59c09a49-bad1-4c70-a137-7c9a3c26d625"
      },
      "source": [
        "A common task in this class will be to convert a 1D array to a 2D array, and vice versa. We can use `reshape()` for this."
      ]
    },
    {
      "cell_type": "markdown",
      "id": "3ecf3a91-68c3-4186-a7ec-583d08e685db",
      "metadata": {
        "id": "3ecf3a91-68c3-4186-a7ec-583d08e685db"
      },
      "source": [
        "For example, suppose we had this 2D array, but we need to pass it to a function that expects a 1D array."
      ]
    },
    {
      "cell_type": "code",
      "execution_count": 46,
      "id": "b1884a4d-c183-4c1a-b4aa-0e9e9925f284",
      "metadata": {
        "id": "b1884a4d-c183-4c1a-b4aa-0e9e9925f284"
      },
      "outputs": [
        {
          "name": "stdout",
          "output_type": "stream",
          "text": [
            "[[1]\n",
            " [2]\n",
            " [3]]\n"
          ]
        },
        {
          "data": {
            "text/plain": [
              "(3, 1)"
            ]
          },
          "execution_count": 46,
          "metadata": {},
          "output_type": "execute_result"
        }
      ],
      "source": [
        "w = np.array([[1],[2],[3]])\n",
        "print(w)\n",
        "w.shape"
      ]
    },
    {
      "cell_type": "markdown",
      "id": "7bd067b9-1f56-4714-8baa-75f81a8b4d2c",
      "metadata": {
        "id": "7bd067b9-1f56-4714-8baa-75f81a8b4d2c"
      },
      "source": [
        "We can remove the “unnecessary” extra dimension with"
      ]
    },
    {
      "cell_type": "code",
      "execution_count": 47,
      "id": "31ac2e61-d3de-4b10-ab04-df7d879754b1",
      "metadata": {
        "id": "31ac2e61-d3de-4b10-ab04-df7d879754b1"
      },
      "outputs": [
        {
          "name": "stdout",
          "output_type": "stream",
          "text": [
            "[1 2 3]\n"
          ]
        },
        {
          "data": {
            "text/plain": [
              "(3,)"
            ]
          },
          "execution_count": 47,
          "metadata": {},
          "output_type": "execute_result"
        }
      ],
      "source": [
        "y = w.reshape(-1,)\n",
        "print(y)\n",
        "y.shape"
      ]
    },
    {
      "cell_type": "markdown",
      "id": "3224804b-5a14-4607-a536-4b3d584ee815",
      "metadata": {
        "id": "3224804b-5a14-4607-a536-4b3d584ee815"
      },
      "source": [
        "Note that we can pass -1 as one dimension and numpy will infer the correct size based on our matrix size!\n",
        "\n",
        "There’s also a `squeeze()` function that removes *all* of the “unnecessary” dimensions (dimensions that have size 1) from an array:"
      ]
    },
    {
      "cell_type": "code",
      "execution_count": 48,
      "id": "9c4a3539-3c94-4ac1-bae5-ccf4837dcccb",
      "metadata": {
        "id": "9c4a3539-3c94-4ac1-bae5-ccf4837dcccb"
      },
      "outputs": [
        {
          "name": "stdout",
          "output_type": "stream",
          "text": [
            "[1 2 3]\n"
          ]
        },
        {
          "data": {
            "text/plain": [
              "(3,)"
            ]
          },
          "execution_count": 48,
          "metadata": {},
          "output_type": "execute_result"
        }
      ],
      "source": [
        "z = w.squeeze()\n",
        "print(z)\n",
        "z.shape"
      ]
    },
    {
      "cell_type": "markdown",
      "id": "38a91793-4a23-44c9-babf-2a304434fefb",
      "metadata": {
        "id": "38a91793-4a23-44c9-babf-2a304434fefb"
      },
      "source": [
        "To go from a 1D to 2D array, we can just add in another dimension of size 1:"
      ]
    },
    {
      "cell_type": "code",
      "execution_count": 51,
      "id": "616aac7c-8dda-4239-bef8-95d6992ec41f",
      "metadata": {
        "id": "616aac7c-8dda-4239-bef8-95d6992ec41f"
      },
      "outputs": [
        {
          "data": {
            "text/plain": [
              "array([[1],\n",
              "       [2],\n",
              "       [3]])"
            ]
          },
          "execution_count": 51,
          "metadata": {},
          "output_type": "execute_result"
        }
      ],
      "source": [
        "y.reshape((-1,1))"
      ]
    },
    {
      "cell_type": "markdown",
      "id": "2f732295-05f9-4b61-9f24-8efd6b41de8d",
      "metadata": {
        "id": "2f732295-05f9-4b61-9f24-8efd6b41de8d"
      },
      "source": [
        "### Broadcasting"
      ]
    },
    {
      "cell_type": "markdown",
      "id": "2a85d55c-e7e9-4552-b3af-4476d5ccbe86",
      "metadata": {
        "id": "2a85d55c-e7e9-4552-b3af-4476d5ccbe86"
      },
      "source": [
        "Broadcasting is a powerful mechanism that allows numpy to work with arrays of different shapes when performing arithmetic operations."
      ]
    },
    {
      "cell_type": "markdown",
      "id": "7c21ce51-aeab-4da1-8d7f-60507ae6c22d",
      "metadata": {
        "id": "7c21ce51-aeab-4da1-8d7f-60507ae6c22d"
      },
      "source": [
        "For example: basic linear algebra, we can only add (and perform similar element-wise operations) two matrics that have the *same* dimension. In numpy, if we want to add two matrics that have different dimensions, numpy will implicitly “extend” the dimension of one matrix to match the other so that we can perform the operation.\n",
        "\n",
        "So these operations will work, instead of returning an error:\n",
        "\n",
        "![](https://sebastianraschka.com/images/blog/2020/numpy-intro/broadcasting-1.png)\n",
        "\n",
        "![](https://sebastianraschka.com/images/blog/2020/numpy-intro/broadcasting-2.png)"
      ]
    },
    {
      "cell_type": "markdown",
      "id": "aa6e5252-c604-45b4-870a-4e7c6020ae99",
      "metadata": {
        "id": "aa6e5252-c604-45b4-870a-4e7c6020ae99"
      },
      "source": [
        "Broadcasting two arrays together follows these rules:\n",
        "\n",
        "**Rule 1**: If the two arrays differ in their number of dimensions, the shape of the one with fewer dimensions is padded with ones on its leading (left) side.\n",
        "\n",
        "For example, in the following cell, `a` will be implicitly extended to shape (1,3):"
      ]
    },
    {
      "cell_type": "code",
      "execution_count": 52,
      "id": "3e32bef1-4753-4893-89ca-4edc7288c766",
      "metadata": {
        "id": "3e32bef1-4753-4893-89ca-4edc7288c766"
      },
      "outputs": [
        {
          "name": "stdout",
          "output_type": "stream",
          "text": [
            "[[5 6 7]\n",
            " [6 7 8]\n",
            " [7 8 9]]\n"
          ]
        }
      ],
      "source": [
        "a = np.array([1,2,3])         # has shape (3,): one dimension\n",
        "b = np.array([[4], [5], [6]]) # has shape (3,1): two dimensions\n",
        "c = a + b                     # will have shape (3,3) (two dimensions)\n",
        "print(c)"
      ]
    },
    {
      "cell_type": "markdown",
      "id": "d148066a-992b-4b46-9944-0cce3ac61189",
      "metadata": {
        "id": "d148066a-992b-4b46-9944-0cce3ac61189"
      },
      "source": [
        "**Rule 2**: If the shape of the two arrays does not match in any dimension, the array with shape equal to 1 in that dimension is stretched to match the other shape.\n",
        "\n",
        "For example, in the following cell `a` will be implicitly extended to shape (3,2):"
      ]
    },
    {
      "cell_type": "code",
      "execution_count": 57,
      "id": "3ce72464-c36b-45e5-8de5-f24eb11c63fb",
      "metadata": {
        "id": "3ce72464-c36b-45e5-8de5-f24eb11c63fb"
      },
      "outputs": [
        {
          "name": "stdout",
          "output_type": "stream",
          "text": [
            "[[ 5  6]\n",
            " [ 8  9]\n",
            " [11 12]]\n"
          ]
        }
      ],
      "source": [
        "a = np.array([[1],[2],[3]])         # has shape (3,1)\n",
        "b = np.array([[4,5], [6,7], [8,9]]) # has shape (3,2)\n",
        "c = a + b                           # will have shape (3,2)\n",
        "print(c)"
      ]
    },
    {
      "cell_type": "markdown",
      "id": "3cc70138-0b7f-4a3c-a561-416491b24704",
      "metadata": {
        "id": "3cc70138-0b7f-4a3c-a561-416491b24704"
      },
      "source": [
        "**Rule 3**: If in any dimension the sizes disagree and neither is equal to 1, an error is raised:"
      ]
    },
    {
      "cell_type": "code",
      "execution_count": 60,
      "id": "c73f809a-5255-4958-b8af-f5c078838df5",
      "metadata": {
        "id": "c73f809a-5255-4958-b8af-f5c078838df5"
      },
      "outputs": [
        {
          "ename": "ValueError",
          "evalue": "operands could not be broadcast together with shapes (4,1) (3,2) ",
          "output_type": "error",
          "traceback": [
            "\u001b[1;31m---------------------------------------------------------------------------\u001b[0m",
            "\u001b[1;31mValueError\u001b[0m                                Traceback (most recent call last)",
            "Cell \u001b[1;32mIn[60], line 3\u001b[0m\n\u001b[0;32m      1\u001b[0m a \u001b[38;5;241m=\u001b[39m np\u001b[38;5;241m.\u001b[39marray([[\u001b[38;5;241m1\u001b[39m],[\u001b[38;5;241m2\u001b[39m],[\u001b[38;5;241m3\u001b[39m],[\u001b[38;5;241m4\u001b[39m]])      \u001b[38;5;66;03m# has shape (4,1)\u001b[39;00m\n\u001b[0;32m      2\u001b[0m b \u001b[38;5;241m=\u001b[39m np\u001b[38;5;241m.\u001b[39marray([[\u001b[38;5;241m4\u001b[39m,\u001b[38;5;241m5\u001b[39m], [\u001b[38;5;241m6\u001b[39m,\u001b[38;5;241m7\u001b[39m], [\u001b[38;5;241m8\u001b[39m,\u001b[38;5;241m9\u001b[39m]])  \u001b[38;5;66;03m# has shape (3,2)\u001b[39;00m\n\u001b[1;32m----> 3\u001b[0m c \u001b[38;5;241m=\u001b[39m \u001b[43ma\u001b[49m\u001b[43m \u001b[49m\u001b[38;5;241;43m+\u001b[39;49m\u001b[43m \u001b[49m\u001b[43mb\u001b[49m\n",
            "\u001b[1;31mValueError\u001b[0m: operands could not be broadcast together with shapes (4,1) (3,2) "
          ]
        }
      ],
      "source": [
        "a = np.array([[1],[2],[3],[4]])      # has shape (4,1)\n",
        "b = np.array([[4,5], [6,7], [8,9]])  # has shape (3,2)\n",
        "c = a + b                            # ValueError: operands could not be broadcast"
      ]
    },
    {
      "cell_type": "markdown",
      "id": "9fcb707a-3ec0-4d0c-a1d3-7410a58262e2",
      "metadata": {
        "id": "9fcb707a-3ec0-4d0c-a1d3-7410a58262e2"
      },
      "source": [
        "For more detail, you can read the explanation from the [documentation](http://docs.scipy.org/doc/numpy/user/basics.broadcasting.html)."
      ]
    },
    {
      "cell_type": "markdown",
      "id": "bf330eac-6a83-4878-bfaa-f11f300928ac",
      "metadata": {
        "id": "bf330eac-6a83-4878-bfaa-f11f300928ac"
      },
      "source": [
        "Functions that support broadcasting are known as universal functions. You can find the list of all universal functions in the [documentation](http://docs.scipy.org/doc/numpy/reference/ufuncs.html#available-ufuncs)."
      ]
    },
    {
      "cell_type": "markdown",
      "id": "497f6be0-fc5e-4d99-aec4-2435498c61ea",
      "metadata": {
        "id": "497f6be0-fc5e-4d99-aec4-2435498c61ea"
      },
      "source": [
        "Here are a few visual examples involving broadcasting.\n",
        "\n",
        "![](http://jalammar.github.io/images/numpy/numpy-array-broadcast.png)\n",
        "\n",
        "Note that these arrays are compatible in each dimension if they have either the same size in that dimension, or if one array has size 1 in that dimension.\n",
        "\n",
        "![](http://jalammar.github.io/images/numpy/numpy-matrix-broadcast.png)"
      ]
    },
    {
      "cell_type": "markdown",
      "id": "cbc5165b-fc47-4e14-8b58-3012adbad24e",
      "metadata": {
        "id": "cbc5165b-fc47-4e14-8b58-3012adbad24e"
      },
      "source": [
        "And here are some more practical applications:"
      ]
    },
    {
      "cell_type": "code",
      "execution_count": null,
      "id": "e5636e31-b864-461e-b1bc-875549a857fa",
      "metadata": {
        "id": "e5636e31-b864-461e-b1bc-875549a857fa"
      },
      "outputs": [
        {
          "name": "stdout",
          "output_type": "stream",
          "text": [
            "[[ 4  5]\n",
            " [ 8 10]\n",
            " [12 15]]\n"
          ]
        }
      ],
      "source": [
        "# Compute outer product of vectors\n",
        "v = np.array([1,2,3])  # v has shape (3,)\n",
        "w = np.array([4,5])    # w has shape (2,)\n",
        "# To compute an outer product, we first reshape v to be a column\n",
        "# vector of shape (3, 1); we can then broadcast it against w to yield\n",
        "# an output of shape (3, 2), which is the outer product of v and w:\n",
        "\n",
        "print(np.reshape(v, (3, 1)) * w)"
      ]
    },
    {
      "cell_type": "code",
      "execution_count": null,
      "id": "5fe4f55d-ad71-4f12-93d9-52e82790b8f0",
      "metadata": {
        "id": "5fe4f55d-ad71-4f12-93d9-52e82790b8f0"
      },
      "outputs": [
        {
          "name": "stdout",
          "output_type": "stream",
          "text": [
            "[[2 4 6]\n",
            " [5 7 9]]\n"
          ]
        }
      ],
      "source": [
        "# Add a vector to each row of a matrix\n",
        "x = np.array([[1,2,3], [4,5,6]])\n",
        "# x has shape (2, 3) and v has shape (3,) so they broadcast to (2, 3),\n",
        "# giving the following matrix:\n",
        "\n",
        "print(x + v)"
      ]
    },
    {
      "cell_type": "code",
      "execution_count": null,
      "id": "5b703d95-f109-4828-968f-6b3f42dd281e",
      "metadata": {
        "id": "5b703d95-f109-4828-968f-6b3f42dd281e"
      },
      "outputs": [
        {
          "name": "stdout",
          "output_type": "stream",
          "text": [
            "[[ 5  6  7]\n",
            " [ 9 10 11]]\n"
          ]
        }
      ],
      "source": [
        "# Add a vector to each column of a matrix\n",
        "# x has shape (2, 3) and w has shape (2,).\n",
        "# If we transpose x then it has shape (3, 2) and can be broadcast\n",
        "# against w to yield a result of shape (3, 2); transposing this result\n",
        "# yields the final result of shape (2, 3) which is the matrix x with\n",
        "# the vector w added to each column. Gives the following matrix:\n",
        "\n",
        "print((x.T + w).T)"
      ]
    },
    {
      "cell_type": "code",
      "execution_count": null,
      "id": "7f9e6053-4439-47cd-9890-e1607fa398fe",
      "metadata": {
        "id": "7f9e6053-4439-47cd-9890-e1607fa398fe"
      },
      "outputs": [
        {
          "name": "stdout",
          "output_type": "stream",
          "text": [
            "[[ 5  6  7]\n",
            " [ 9 10 11]]\n"
          ]
        }
      ],
      "source": [
        "# Another solution is to reshape w to be a row vector of shape (2, 1);\n",
        "# we can then broadcast it directly against x to produce the same\n",
        "# output.\n",
        "print(x + np.reshape(w, (2, 1)))"
      ]
    },
    {
      "cell_type": "code",
      "execution_count": null,
      "id": "2d4ac7f1-4aa5-445a-8cad-3cafc8946055",
      "metadata": {
        "id": "2d4ac7f1-4aa5-445a-8cad-3cafc8946055"
      },
      "outputs": [
        {
          "name": "stdout",
          "output_type": "stream",
          "text": [
            "[[ 2  4  6]\n",
            " [ 8 10 12]]\n"
          ]
        }
      ],
      "source": [
        "# Multiply a matrix by a constant:\n",
        "# x has shape (2, 3). Numpy treats scalars as arrays of shape ();\n",
        "# these can be broadcast together to shape (2, 3), producing the\n",
        "# following array:\n",
        "print(x * 2)"
      ]
    },
    {
      "cell_type": "markdown",
      "id": "a2b8e88d-856f-4bd2-b266-cc579edc202f",
      "metadata": {
        "id": "a2b8e88d-856f-4bd2-b266-cc579edc202f"
      },
      "source": [
        "Broadcasting typically makes your code more concise and faster, so you should strive to use it where possible."
      ]
    },
    {
      "cell_type": "markdown",
      "id": "ea213900-99db-4c10-9047-17abbb7b8772",
      "metadata": {
        "id": "ea213900-99db-4c10-9047-17abbb7b8772"
      },
      "source": [
        "This brief overview has touched on many of the important things that you need to know about numpy, but is far from complete. Check out the [numpy reference](http://docs.scipy.org/doc/numpy/reference/) to find out much more about numpy."
      ]
    },
    {
      "cell_type": "markdown",
      "id": "8c743bf9-95e7-4b21-8ef6-1d916db84104",
      "metadata": {
        "id": "8c743bf9-95e7-4b21-8ef6-1d916db84104"
      },
      "source": [
        "## Matplotlib"
      ]
    },
    {
      "cell_type": "markdown",
      "id": "8630b702-f57d-422f-8c40-7912f1465851",
      "metadata": {
        "id": "8630b702-f57d-422f-8c40-7912f1465851"
      },
      "source": [
        "Matplotlib is a plotting library. In this section we give a brief introduction to the `matplotlib.pyplot` module, which provides a plotting system similar to that of MATLAB.\n",
        "\n",
        "By convention, we typically import this module using the `plt` alias:"
      ]
    },
    {
      "cell_type": "code",
      "execution_count": null,
      "id": "e49c3713-edd0-4c57-b3dd-a50357bfa2c4",
      "metadata": {
        "id": "e49c3713-edd0-4c57-b3dd-a50357bfa2c4"
      },
      "outputs": [],
      "source": [
        "import matplotlib.pyplot as plt"
      ]
    },
    {
      "cell_type": "markdown",
      "id": "fdd662e3-04b1-4e56-8a9a-e15cec40b917",
      "metadata": {
        "id": "fdd662e3-04b1-4e56-8a9a-e15cec40b917"
      },
      "source": [
        "### Plotting"
      ]
    },
    {
      "cell_type": "markdown",
      "id": "4f966115-d35f-4981-9cf3-61985f2c7f02",
      "metadata": {
        "id": "4f966115-d35f-4981-9cf3-61985f2c7f02"
      },
      "source": [
        "The most important function in `matplotlib` is `plot`, which allows you to plot 2D data as a line plot. Here is a simple example:"
      ]
    },
    {
      "cell_type": "code",
      "execution_count": null,
      "id": "7a6e0ff6-ae4b-4a50-a472-b1b5c0b3da23",
      "metadata": {
        "id": "7a6e0ff6-ae4b-4a50-a472-b1b5c0b3da23"
      },
      "outputs": [
        {
          "data": {
            "image/png": "[encoded data removed]",
            "text/plain": [
              "<Figure size 640x480 with 1 Axes>"
            ]
          },
          "metadata": {},
          "output_type": "display_data"
        }
      ],
      "source": [
        "# Compute the x and y coordinates for points on a sine curve\n",
        "x = np.arange(0, 3 * np.pi, 0.1)\n",
        "y = np.sin(x)\n",
        "\n",
        "# Plot the points using matplotlib\n",
        "plt.plot(x, y)\n",
        "\n",
        "# Show the figure.\n",
        "plt.show()"
      ]
    },
    {
      "cell_type": "markdown",
      "id": "18e74092-d88b-4330-9272-deda49e09c56",
      "metadata": {
        "id": "18e74092-d88b-4330-9272-deda49e09c56"
      },
      "source": [
        "With just a little bit of extra work we can easily plot multiple lines at once, and add a title, legend, and axis labels:"
      ]
    },
    {
      "cell_type": "code",
      "execution_count": null,
      "id": "3d63edc1-23b2-40cd-91c5-2c603be9801e",
      "metadata": {
        "id": "3d63edc1-23b2-40cd-91c5-2c603be9801e"
      },
      "outputs": [
        {
          "data": {
            "image/png": "[encoded data removed]",
            "text/plain": [
              "<Figure size 640x480 with 1 Axes>"
            ]
          },
          "metadata": {},
          "output_type": "display_data"
        }
      ],
      "source": [
        "y_sin = np.sin(x)\n",
        "y_cos = np.cos(x)\n",
        "\n",
        "# Plot the points using matplotlib\n",
        "plt.plot(x, y_sin, label='Sine')\n",
        "plt.plot(x, y_cos, label='Cosine')\n",
        "plt.legend() # uses the label arguments given above\n",
        "\n",
        "plt.xlabel('x axis label')\n",
        "plt.ylabel('y axis label')\n",
        "plt.title('Sine and Cosine')\n",
        "\n",
        "# Show the figure.\n",
        "plt.show()"
      ]
    },
    {
      "cell_type": "markdown",
      "id": "d1aded07-7334-400d-bd72-22a2a60a65d8",
      "metadata": {
        "id": "d1aded07-7334-400d-bd72-22a2a60a65d8"
      },
      "source": [
        "Another useful, basic, plot is the `scatter` plot:"
      ]
    },
    {
      "cell_type": "code",
      "execution_count": null,
      "id": "04fc2f05-e3b6-4146-afca-7b039af7d605",
      "metadata": {
        "id": "04fc2f05-e3b6-4146-afca-7b039af7d605"
      },
      "outputs": [
        {
          "data": {
            "image/png": "[encoded data removed]",
            "text/plain": [
              "<Figure size 640x480 with 1 Axes>"
            ]
          },
          "metadata": {},
          "output_type": "display_data"
        }
      ],
      "source": [
        "x = np.random.rand(50)\n",
        "y = np.random.rand(50)\n",
        "colors = np.random.randint(0, 2, 50)\n",
        "\n",
        "plt.scatter(x, y, c=colors)\n",
        "\n",
        "plt.show()"
      ]
    },
    {
      "cell_type": "markdown",
      "id": "8ebcd0b4-ba3b-4287-8ce6-b7c57492415b",
      "metadata": {
        "id": "8ebcd0b4-ba3b-4287-8ce6-b7c57492415b"
      },
      "source": [
        "When there is no logical connection between adjacent points (for example: if the horizontal axis is a categorical variable without a logical order), then you should *not* connect them (as in a line plot), since this implies a relationship that does not exist! Instead, you would use a scatter plot."
      ]
    },
    {
      "cell_type": "markdown",
      "id": "ecde9d53-8ad0-4b55-abce-a23e15e1e1f9",
      "metadata": {
        "id": "ecde9d53-8ad0-4b55-abce-a23e15e1e1f9"
      },
      "source": [
        "### Subplots"
      ]
    },
    {
      "cell_type": "markdown",
      "id": "baf993cc-1f30-464e-a4ed-d93d57dadfa0",
      "metadata": {
        "id": "baf993cc-1f30-464e-a4ed-d93d57dadfa0"
      },
      "source": [
        "You can plot different things in the same figure using the `subplot` function. Here is an example:"
      ]
    },
    {
      "cell_type": "code",
      "execution_count": null,
      "id": "e83de13a-ad4f-41a0-b708-cc34787a711b",
      "metadata": {
        "id": "e83de13a-ad4f-41a0-b708-cc34787a711b"
      },
      "outputs": [
        {
          "data": {
            "image/png": "[encoded data removed]",
            "text/plain": [
              "<Figure size 640x480 with 2 Axes>"
            ]
          },
          "metadata": {},
          "output_type": "display_data"
        }
      ],
      "source": [
        "# Compute the x and y coordinates for points on sine and cosine curves\n",
        "x = np.arange(0, 3 * np.pi, 0.1)\n",
        "y_sin = np.sin(x)\n",
        "y_cos = np.cos(x)\n",
        "\n",
        "# Set up a subplot grid that has height 2 and width 1,\n",
        "# and set the first such subplot as active.\n",
        "plt.subplot(2, 1, 1)\n",
        "\n",
        "# Make the first plot\n",
        "plt.plot(x, y_sin)\n",
        "plt.title('Sine')\n",
        "\n",
        "# Set the second subplot as active, and make the second plot.\n",
        "plt.subplot(2, 1, 2)\n",
        "plt.plot(x, y_cos)\n",
        "plt.title('Cosine')\n",
        "\n",
        "# Adjust spacing between subplots\n",
        "plt.subplots_adjust(hspace = 0.4)\n",
        "\n",
        "# Show the figure.\n",
        "plt.show()"
      ]
    },
    {
      "cell_type": "markdown",
      "id": "791ff577-24b4-4e64-8075-c8492e3592dd",
      "metadata": {
        "id": "791ff577-24b4-4e64-8075-c8492e3592dd"
      },
      "source": [
        "You can read much more about the `subplot` function in the [documentation](http://matplotlib.org/api/pyplot_api.html#matplotlib.pyplot.subplot)."
      ]
    },
    {
      "cell_type": "markdown",
      "id": "cbfae954-52ab-4efe-86f4-3553e0f799c9",
      "metadata": {
        "id": "cbfae954-52ab-4efe-86f4-3553e0f799c9"
      },
      "source": [
        "You can use the `imshow` function to display images from a file. Here is an example:"
      ]
    },
    {
      "cell_type": "code",
      "execution_count": null,
      "id": "9f536a15-9dd3-4283-95ff-6a05309175d5",
      "metadata": {
        "id": "9f536a15-9dd3-4283-95ff-6a05309175d5"
      },
      "outputs": [
        {
          "data": {
            "image/png": "[encoded data removed]",
            "text/plain": [
              "<Figure size 640x480 with 1 Axes>"
            ]
          },
          "metadata": {},
          "output_type": "display_data"
        }
      ],
      "source": [
        "from matplotlib.cbook import get_sample_data\n",
        "\n",
        "img_file = get_sample_data('grace_hopper.jpg')\n",
        "\n",
        "img = plt.imread(img_file)\n",
        "plt.imshow(img)\n",
        "plt.show()"
      ]
    },
    {
      "cell_type": "markdown",
      "id": "825162e7-0cb0-4ff1-b687-340b9332f8ef",
      "metadata": {
        "id": "825162e7-0cb0-4ff1-b687-340b9332f8ef"
      },
      "source": [
        "The `matplotlib` library is very flexible, and you can create virtually any plot and modify its appearance in any way you might think of. If you don’t like the way your plot looks, fix it! Use the [documentation](http://matplotlib.org/api/pyplot_api.html) to learn more."
      ]
    }
  ],
  "metadata": {
    "colab": {
      "provenance": []
    },
    "kernelspec": {
      "display_name": "apr24",
      "language": "python",
      "name": "python3"
    },
    "language_info": {
      "codemirror_mode": {
        "name": "ipython",
        "version": 3
      },
      "file_extension": ".py",
      "mimetype": "text/x-python",
      "name": "python",
      "nbconvert_exporter": "python",
      "pygments_lexer": "ipython3",
      "version": "3.10.13"
    }
  },
  "nbformat": 4,
  "nbformat_minor": 5
}
